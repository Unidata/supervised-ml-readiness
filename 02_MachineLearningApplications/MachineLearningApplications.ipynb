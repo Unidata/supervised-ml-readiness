{
 "cells": [
  {
   "cell_type": "markdown",
   "id": "428dea08-556b-4cc7-ae3d-4aad50df29da",
   "metadata": {},
   "source": [
    "<img src=\"https://elearning.unidata.ucar.edu/dataeLearning/Cybertraining/analysis/media/NSF-Unidata_lockup_vertical_2023.png\" width=\"150px\" align=\"right\">\n",
    "\n",
    "# Machine Learning Applications in the Earth Systems Sciences\n",
    "\n",
    "In this module, you will build upon the knowledge from *Machine Learning Foundations in the Earth Systems Sciences* by executing tasks with code and interactive widgets. Expect to leave this module with a deeper understanding of data exploration, the iterative process of machine learning development, and critically judging machine learning model output. "
   ]
  },
  {
   "cell_type": "markdown",
   "id": "6b54474a",
   "metadata": {},
   "source": [
    "## Optimize a precipitation classification machine learning model\n",
    "Previously, Sam and the research team made their first supervised machine learning classification model. This proof-of-concept model showed some skill, but the team ultimately decided to ask for help before proceeding any further. This is where you come in. Play the video below to learn more about how you will help Sam and the team refine their model and ultimately make a decision on whether the model is appropriate for the task. \n",
    "\n",
    "*Video opens in a new tab.*\n",
    "\n",
    "<a href=\"https://elearning.unidata.ucar.edu/dataeLearning/Cybertraining/applications/media/introvideo/\" target=\"blank\"><img src=\"https://elearning.unidata.ucar.edu/dataeLearning/Cybertraining/applications/media/introvideo/introvideo_thumbnail.png\" width=\"600 px\">\n",
    "</a>\n",
    "\n",
    "<a href=\"https://docs.google.com/document/d/e/2PACX-1vQLFLG4C1ZnF8w5pxudPmMDz8No7RrA1i9fcnzR55sCRsLNYjzlPNUaInkyKYuLti2pEtGGP5X4OS2Z/pub\" target=\"blank\">Transcript</a>\n",
    "\n",
    "<div class=\"alert alert-info\" role=\"alert\">\n",
    "<p class=\"admonition-title\" style=\"font-weight:bold\">What is a machine learning engineer?</p>\n",
    "    <p>Now that you know the process for developing a supervised machine learning model, you have a general idea of all the tasks that machine learning engineers are tasked with. From problem framing through model evaluation, machine learning engineers work with decision makers and data specialists to design and develop machine learning models. In addition to the machine learning skills you have learned so far, machine learning engineers have skills in Python programming, data science, statistics, and importantly, domain-specific knowledge.</p>\n",
    "</div>\n",
    "\n",
    "---\n",
    "\n",
    "<br><br>"
   ]
  },
  {
   "cell_type": "markdown",
   "id": "d929e7ca-fc41-4eee-9e75-d11c950e1856",
   "metadata": {},
   "source": [
    "## Part 1: Problem Framing\n",
    "\n",
    "Recall that the first step in developing a machine learning model is **problem framing**. \n",
    "<center><a href=\"https://elearning.unidata.ucar.edu/dataeLearning/Cybertraining/analysis/media/RevisedFull_NOPROCESS_.png\" target=\"blank\"><img src=\"https://elearning.unidata.ucar.edu/dataeLearning/Cybertraining/analysis/media/RevisedFull_NOPROCESS_.png\"></a><br><i>Click to enlarge</i></center>\n",
    "<br><br>\n",
    "Sam and the team have already completed the problem framing step based on the task from their supervisor. Review their framing questions below.\n",
    "\n",
    "#### Problem framing questions\n",
    "\n",
    "\n",
    "***Does a simpler solution exist?***\n",
    "\n",
    "&emsp;Predicting the type of precipitation during a winter weather event relies on many different co-varying variables, including differences in temperature and humidity between the surface and clouds and winds, to name a few. A simple conditional statement may not be the most effective tool. \n",
    "\n",
    "***Can machine learning requirements be met?***\n",
    "\n",
    "&emsp;Sam will use a weather forecasting model in combination with citizen scientist precipitation type reports during winter weather events. They will have thousands of data records to use in development. \n",
    "\n",
    "***Which scientific question should be answered?***\n",
    "\n",
    "&emsp;\"Will the precipitation at a certain location and time be rain or snow?\"\n",
    "\n",
    "<br>\n",
    "\n",
    "---\n"
   ]
  },
  {
   "cell_type": "markdown",
   "id": "2d012dc1-961c-4eb2-91ac-b72393d0e17a",
   "metadata": {},
   "source": [
    "## Part 2: Data Handling\n",
    "Data handling is the multi-step process for preparing data for model development. During this phase, data are gathered, examined, and split into three groups for model development and evaluation. \n",
    "\n",
    "<center><a href=\"https://elearning.unidata.ucar.edu/dataeLearning/Cybertraining/analysis/media/RevisedFull_NOPROCESS_.png\" target=\"blank\"><img src=\"https://elearning.unidata.ucar.edu/dataeLearning/Cybertraining/analysis/media/RevisedFull_NOPROCESS_.png\"></a><br><i>Click to enlarge</i></center>\n",
    "<br><br>\n",
    "\n",
    "\n",
    "<br>"
   ]
  },
  {
   "cell_type": "markdown",
   "id": "e1aab0d6-8ed8-4452-84fb-564289d6a474",
   "metadata": {},
   "source": [
    "### Part 2a: Locate Data of Interest\n",
    "\n",
    "Sam's team has already gathered the data to use in model development and shared it with you to review. They combined output from the atmospheric reanalysis model output with citizen science precipitation type reports from <a href=\"https://mping.nssl.noaa.gov/\" target=\"blank\">mPing</a> (NOAA NSSL, University of Oklahoma) such that every precipitation report corresponds to a series of environmental variables at the same time and location. These data are open-access so they did not need to gain special permission for use. \n",
    "\n",
    "They also want to make this new dataset available for other scientists and researchers (like you!) to use and build upon their progress, so they have made the data available to everyone following the FAIR data principles. \n",
    "\n",
    "<div class=\"alert alert-info\" role=\"alert\">\n",
    "<p class=\"admonition-title\" style=\"font-weight:bold\">FAIR data principles</p>\n",
    "    <p><a href=\"https://www.go-fair.org/fair-principles/\" target=\"blank\">FAIR data principles</a> ensure that data are Findable, Accessible, Interoperable, and Reusable by the scientific community. Following FAIR data principles helps ensure that research is transparent, reusable, and contributes to the peer-review process that keeps science reliable and open to improvement.</p>\n",
    "</div>\n"
   ]
  },
  {
   "cell_type": "markdown",
   "id": "6c556939-ab71-48c4-b395-cd15e346b0a0",
   "metadata": {
    "jp-MarkdownHeadingCollapsed": true
   },
   "source": [
    "To clearly document the source and nature of the data, they have created the following metadata document. Review this information before starting the next step: exploring the data. \n",
    "\n",
    "<div class=\"alert alert-info\" role=\"alert\">\n",
    "\n",
    "#### Metadata Document for Preciptation Type Classification Data\n",
    "\n",
    "##### General Information\n",
    "\n",
    "Dataset Name: Precipitation Type Classification Data\n",
    "\n",
    "Description: Combination of atmospheric reanalysis model output and mPing precipitation reports. \n",
    "\n",
    "Date Range: \n",
    "\n",
    "Geographic Coverage: Continental United States \n",
    "\n",
    "Data Frequency: Irregular, one record per mPing report\n",
    "\n",
    "Last Updated: 02/02/2025\n",
    "\n",
    "##### Data Structure\n",
    "\n",
    "File Format: .parquet\n",
    "\n",
    "Number of Records: 5000\n",
    "\n",
    "Columns (features):\n",
    "\n",
    "- TEMP_C_0_m: Air temperature (°C) at 0 meters above ground level.\n",
    "- TEMP_C_1000_m: Air temperature (°C) at 1000 meters above ground level.\n",
    "- TEMP_C_5000_m: Air temperature (°C) at 5000 meters above ground level.\n",
    "- T_DEWPOINT_C_0_m: Dewpoint (°C) at 0 meters above ground level.\n",
    "- T_DEWPOINT_C_1000_m: Dewpoint (°C) at 1000 meters above ground level.\n",
    "- T_DEWPOINT_C_5000_m: Dewpoint (°C) at 5000 meters above ground level.\n",
    "- PRES_Pa_0_m: Environmental pressure (Pa) at 0 meters above ground level.\n",
    "- PRES_Pa_1000_m: Environmental pressure (Pa) at 1000 meters above ground level.\n",
    "- PRES_Pa_5000_m: Environmental pressure (Pa) at 5000 meters above ground level.\n",
    "- UGRD_m/s_0_m: U-component (west to east) of wind speed (m/s) at 0 meters above ground level.\n",
    "- UGRD_m/s_1000_m: U-component (west to east) of wind speed (m/s) at 1000 meters above ground level.\n",
    "- UGRD_m/s_5000_m: U-component (west to east) of wind speed (m/s) at 5000 meters above ground level.\n",
    "- VGRD_m/s_0_m: V-component (south to north) of wind speed (m/s) at 0 meters above ground level.\n",
    "- VGRD_m/s_1000_m: V-component (south to north) of wind speed (m/s) at 1000 meters above ground level.\n",
    "- VGRD_m/s_5000_m: V-component (south to north) of wind speed (m/s) at 1000 meters above ground level.\n",
    "- ptype: Precipitation type reported to mPing (\"rain\" or \"snow\")\n",
    "\n",
    "##### Data Quality\n",
    "\n",
    "Missing Data: There is no missing data in this dataset\n",
    "\n",
    "Outlier Handling:  No outlier handling was done\n",
    "\n",
    "##### Data Provenance\n",
    "\n",
    "Sources: Our research group provided the reanalysis model output. Precipitation type reports are from <a href=\"https://mping.nssl.noaa.gov/\" target=\"blank\">mPing</a> (NOAA NSSL, University of Oklahoma)\n",
    "\n",
    "</div>\n",
    "<br>"
   ]
  },
  {
   "cell_type": "markdown",
   "id": "b1c629fa-ac2a-48e5-9ef7-944857c35b9b",
   "metadata": {},
   "source": [
    "### Part 2b: Explore Data"
   ]
  },
  {
   "cell_type": "markdown",
   "id": "603467a4-4935-4229-9a18-fe1d488e6349",
   "metadata": {},
   "source": [
    "Now it's your turn to explore the data that the team has prepared. Before starting an analysis of any kind, it's important to familiarize yourself with the data before you use it. This way, you can identify any issues or limitations in the dataset before you start generating statistics or transforming the data. In this step, you will take a closer look at the input and target features with a few plots.\n",
    "\n",
    "First, let's read the data into this workspace. To begin, we must import several Python packages, including all the tools for reading the data from the THREDDS Data Server and opening it in this workspace.\n",
    "\n",
    "> **Instructions**\n",
    "> \n",
    "> Execute the  cell below.\n",
    "> \n",
    "> *This may take a moment to complete.*"
   ]
  },
  {
   "cell_type": "code",
   "execution_count": null,
   "id": "79aae53e-37ef-45f6-9049-3ab1a88d11d5",
   "metadata": {},
   "outputs": [],
   "source": [
    "import numpy as np\n",
    "import pandas as pd\n",
    "import seaborn as sns\n",
    "import matplotlib.pyplot as plt\n",
    "\n",
    "# Location of the data on the THREDDS data server \n",
    "file_path ='https://thredds.ucar.edu/thredds/fileServer/cybertraining/sam_ptype.parquet'\n",
    "\n",
    "# Read data into this workspace\n",
    "df = pd.read_parquet(file_path) "
   ]
  },
  {
   "cell_type": "markdown",
   "id": "39db53f7-c843-407a-8018-ebbc78ed867d",
   "metadata": {},
   "source": [
    "#### Explore target features\n",
    "Target features are the features we predict using a machine learning model. Since this is a classification task, the target features are the classes \"rain\" and \"snow.\"\n",
    "\n",
    "We can see how many rain and snow records are in the dataset using the code below.\n",
    "\n",
    "> **Instructions**\n",
    "> \n",
    "> Execute the cell below to determine the total number of records (length, `len()`), and the number of rain and snow observations (`value_counts()`) in the dataset."
   ]
  },
  {
   "cell_type": "code",
   "execution_count": null,
   "id": "f9c75625-1116-4939-a521-e6d33f68b34c",
   "metadata": {},
   "outputs": [],
   "source": [
    "print(\"Total records in dataset:\", len(df))\n",
    "print(df[\"ptype\"].value_counts())"
   ]
  },
  {
   "cell_type": "markdown",
   "id": "7152a624-cd05-40c1-b950-97f297623616",
   "metadata": {},
   "source": [
    "#### Explore input features\n",
    "Input features are the variables that the model uses to predict the target features. In this case, the input features are the environmental variables from the team's atmospheric reanalysis model. \n",
    "\n",
    "As we explore the input features, we examine the following characteristics: \n",
    "\n",
    "- Distribution of values\n",
    "- Unusual values or outliers\n",
    "- Correlation among variables\n",
    "\n",
    "We'll start by visualizing the graphical distribution of values as histograms. In the plotting widget below, you can choose to view all data, or visualize the differences in distribution by precipitation type. \n",
    "\n",
    "> **Instructions**\n",
    "> \n",
    "> Execute the two cells below.\n",
    ">\n",
    "> In the **Input Features** widget, select an input feature from the dropdown menu then select **Update Plot** to view the data. Repeat to view any and all input features of interest.\n",
    ">\n",
    "> Optionally, adjust the opacity of the rain and snow classes for better viewing. After adjusting the sliders, select **Update Plot**."
   ]
  },
  {
   "cell_type": "code",
   "execution_count": null,
   "id": "be8bd093",
   "metadata": {},
   "outputs": [],
   "source": [
    "from applications_tech import HistogramWidget"
   ]
  },
  {
   "cell_type": "code",
   "execution_count": null,
   "id": "97561ed7",
   "metadata": {},
   "outputs": [],
   "source": [
    "widget = HistogramWidget(df)\n",
    "widget.display()"
   ]
  },
  {
   "cell_type": "markdown",
   "id": "ac14f352-d8a8-4267-b846-8c406d3dad79",
   "metadata": {},
   "source": [
    "We can also supplement these graphical representations of spread with a summary statistics table. Examine the statistics to locate any unusual values, or those that do not seem to be physically plausible. \n",
    "\n",
    "> **Instructions**\n",
    ">\n",
    "> Execute the cell below to generate a summary statistics table of the input features.\n",
    ">\n",
    "> Use the left-right scroll bar to view all columns.\n",
    ">\n",
    "> The table includes the following statistics.\n",
    ">\n",
    "> | label | definition |\n",
    "> |----|----|\n",
    "> | count  | number of records |\n",
    "> | mean | arithmetic mean |\n",
    "> | std    | standard deviation   |\n",
    "> | min | minimum value |\n",
    "> | 25%, 50%, 75% | 25th, 50th, and 75th percentile of the distribution, respectively |\n",
    "> | max | maximum value |"
   ]
  },
  {
   "cell_type": "code",
   "execution_count": null,
   "id": "74847a0f-53db-4fa1-8d17-d8960a399500",
   "metadata": {},
   "outputs": [],
   "source": [
    "df.describe()"
   ]
  },
  {
   "cell_type": "markdown",
   "id": "330d31d2-7095-422f-b7b0-05213a15fd5d",
   "metadata": {},
   "source": [
    "Next we'll compare the input features more directly by comparing all records in a grid of plots. In these comparison grids, the scatter plots display the input features a given time. For example, the temperature at 0 m on the x-axis and the dewpoint at 0 m on the y-axis. The scatter plot markers denote the precipitation type, blue triangles for rain and red circles for snow. Scatter plots that show distinct clustering of precipitation types demonstrate that the input variables may be better predictors of rain versus snow. Where rain and snow markers are uniformly distributed, the input features show reduced skill in differentiating rain and snow. \n",
    "\n",
    "<img src=\"https://elearning.unidata.ucar.edu/dataeLearning/Cybertraining/applications/media/separationdemonstration_scatter.png\" width=\"350px\" style=\"display: block; margin: auto;\">\n",
    "<br><br>\n",
    "The comparison plot grid displays histograms where the x- and y-axes are the same station. These are the same histograms that you plotted previously, displaying the distribution of all records by precipitation type.\n",
    "\n",
    "> **Instructions**\n",
    "> \n",
    "> Execute the cell below to generate the comparison plot.\n"
   ]
  },
  {
   "cell_type": "code",
   "execution_count": null,
   "id": "9b7b27ff-ce58-449d-85ff-51fb39c948e4",
   "metadata": {},
   "outputs": [],
   "source": [
    "from applications_tech import display_correlation_plot_dashboard"
   ]
  },
  {
   "cell_type": "code",
   "execution_count": null,
   "id": "8c210276-f6fb-4539-bd7d-2b2f732d7191",
   "metadata": {},
   "outputs": [],
   "source": [
    "display_correlation_plot_dashboard()"
   ]
  },
  {
   "cell_type": "markdown",
   "id": "93507f6b-f993-44b3-bf0d-2fe9604004c8",
   "metadata": {},
   "source": [
    "<div class=\"alert alert-success\" role=\"alert\">\n",
    "<p class=\"admonition-title\" style=\"font-weight:bold\">Exercise 2b</p>\n",
    "    <p>Open your <b>Machine Learning Model Handbook</b> to Exercise 2b. Then describe your exploratory data analysis of any target and input features of note. Include the following:\n",
    "    <ul>\n",
    "        <li>How many rain and snow records are in the dataset?</li>\n",
    "        <li>Do the distributions of values make sense for the physical world?</li>\n",
    "        <li>Are there any unexpected values?</li>\n",
    "        <li>Which input features may be the strongest predictors of rain vs snow?</li>\n",
    "        <li>Include any <i>important</i> plots to illustrate your conclusions. Limit yourself to 5 plots. <br><i>To copy a plot image, hold shift, right click on the image, then select Copy.</i></li>\n",
    "    </ul>\n",
    "    </p>\n",
    "</div>\n",
    "\n",
    "<br>"
   ]
  },
  {
   "cell_type": "markdown",
   "id": "21e60f9e-b7f7-4f52-be1f-392d0d9e6b88",
   "metadata": {},
   "source": [
    "### Part 2c: Create a data splitting strategy\n",
    "\n",
    "Next we create a data splitting strategy. Data splitting refers to the process of dividing data into three groups: training, validation, and testing. Each of these groups represent a part of the iterative process for machine learning model development. \n",
    "\n",
    "- Training data is the largest subset, usually around 60-80% of the total data, and is used to initially train the model. \n",
    "- Validation data is roughly 10-20% of the total data, and is used to validate the effectiveness of the training process. \n",
    "- Testing data is also roughly 10-20% of the total data, and is used to test the final refined model before using it on new, unseen data.\n",
    "\n",
    "Each group should be separate to ensure no single group will bias the model. Sam and the team used the following percentages in their original model:\n",
    "\n",
    "|    Group   | Percent of total data |\n",
    "|------------|-----------------------|\n",
    "| Training   | 75%                   |\n",
    "| Validation | 15%                   |\n",
    "| Testing    | 10%                   |\n",
    "\n",
    "> **Instructions**\n",
    "> \n",
    "> Execute the cell below.\n",
    ">\n",
    "> In the Dataset Split Percentages widget, input the percentages Sam used in their original model (above).\n",
    ">\n",
    "> Select Submit after making your selection."
   ]
  },
  {
   "cell_type": "code",
   "execution_count": null,
   "id": "a93156db-9ba0-478d-8a86-cdecef7f1cb9",
   "metadata": {},
   "outputs": [],
   "source": [
    "from applications_tech import create_percentage_widget\n",
    "\n",
    "widget, get_values = create_percentage_widget()"
   ]
  },
  {
   "cell_type": "markdown",
   "id": "32caa37a-3a16-42cf-bf31-0578b057ced5",
   "metadata": {},
   "source": [
    "> **Instructions**\n",
    "> \n",
    "> Execute the three cells below to execute the functions to split the data according to the percentages you submitted above."
   ]
  },
  {
   "cell_type": "code",
   "execution_count": null,
   "id": "e49e806b",
   "metadata": {},
   "outputs": [],
   "source": [
    "decimals = get_values()\n",
    "training = decimals['training']\n",
    "validation = decimals['validation']\n",
    "testing = decimals['testing']"
   ]
  },
  {
   "cell_type": "code",
   "execution_count": null,
   "id": "3ab2a1a3",
   "metadata": {},
   "outputs": [],
   "source": [
    "from applications_tech import train_val_test_split"
   ]
  },
  {
   "cell_type": "code",
   "execution_count": null,
   "id": "e7e77b83",
   "metadata": {},
   "outputs": [],
   "source": [
    "X_train, y_train, X_val, y_val, X_test, y_test = train_val_test_split(df, \n",
    "                                                                      y_col='ptype',\n",
    "                                                                      train_size=training,\n",
    "                                                                      val_size=validation,\n",
    "                                                                      test_size=testing)"
   ]
  },
  {
   "cell_type": "markdown",
   "id": "72742d33-21fe-44ca-a5b2-784462ee71f8",
   "metadata": {},
   "source": [
    "---"
   ]
  },
  {
   "cell_type": "markdown",
   "id": "ddbf517b-916f-483f-b89f-3da2465aa6a1",
   "metadata": {},
   "source": [
    "## Part 3: Model Development\n",
    "Next begins the iterative process of creating, evaluating, and refining the machine learning model. You will start by recreating Sam's original model and critically evaluating its performance. Then, you will refine the model based on your own choices, keeping track of your trials in your Machine Learning Model Handbook. \n",
    "<center><a href=\"https://elearning.unidata.ucar.edu/dataeLearning/Cybertraining/analysis/media/RevisedFull_NOPROCESS_.png\" target=\"blank\"><img src=\"https://elearning.unidata.ucar.edu/dataeLearning/Cybertraining/analysis/media/RevisedFull_NOPROCESS_.png\"></a><br><i>Click to enlarge</i></center>"
   ]
  },
  {
   "cell_type": "markdown",
   "id": "dcbc2dd6-8b11-42ee-94d3-62ba4efd8378",
   "metadata": {},
   "source": [
    "### Part 3a: Choose Algorithm\n",
    "\n",
    "When selecting an algorithm, we want to choose an algorithm that is appropriate for the data and isn't prone to overfitting. Sam's team considered the following two algorithms: LogisticRegression (Linear) and Random Forest. Despite its name, the LogisticRegression (Linear) algorithm is used for classification tasks. This is because at its core, this algorithm predicts the likelihood of a record being rain or snow. It then returns the most likely classification. You can read more about each algorithm in the information below. \n",
    "\n",
    "<div class=\"alert alert-info\" role=\"alert\">\n",
    "    <p class=\"admonition-title\" style=\"font-weight:bold\">About the Algorithms</p>\n",
    "    <p class=\"admonition-title\" style=\"font-weight:bold\">LogisticRegression (Linear)</p>\n",
    "    <ul>\n",
    "        <li><b>Works well for simple problems:</b> If your data is not too complex, it often gives good results.</li>\n",
    "        <li><b>Fast & efficient:</b> It trains quickly, even on large datasets.Fast & efficient: It trains quickly, even on large datasets.</li>\n",
    "        <li><b>Less likely to overfit:</b> It doesn’t easily memorize the training data.</li>\n",
    "        <li><b>Struggles with complex patterns:</b> If the decision boundary isn’t a straight line, linear regression may not work well.</li>\n",
    "        <li><b>Sensitive to outliers:</b> A few extreme values can heavily influence the model, making it less reliable.</li>\n",
    "    </ul>\n",
    "    <p class=\"admonition-title\" style=\"font-weight:bold\">Random Forest</p>\n",
    "    <ul>\n",
    "        <li><b>Handles complex data well:</b> Random Forest can model complex, nonlinear patterns in the data.\n",
    "        <li><b>Not sensitive to outliers:</b> A few extreme values won’t throw off the model like they might in a linear algorithm.</li>\n",
    "        <li><b>Good accuracy:</b> It’s often more accurate than simpler models.</li>\n",
    "        <li><b>Moderate risk of overfitting:</b> Certain situations may cause the algorithm to create a decision boundary that is too complex, or overfits to the training data. </li>\n",
    "        <li><b>Slower and more computationally expensive:</b> For large datasets, this algorithm takes much more time and computational power compared to the linear algorithm.</li>\n",
    "</div>\n",
    "\n",
    "Sam and the team chose the **LogisticRegression (Linear)** algorithm to train their original model. While you will initially use this algorithm to recreate the original model, you will have an opportunity later to test other options. \n",
    "\n",
    "> **Instructions**\n",
    "> \n",
    "> Execute the two cells below.\n",
    ">\n",
    "> After executing `algorithm_selection()`, select **LogisticRegression (Linear)** to match Sam's choice.\n",
    ">\n",
    "> *You will learn more about both algorithms in a later step*"
   ]
  },
  {
   "cell_type": "code",
   "execution_count": null,
   "id": "6559f78a",
   "metadata": {},
   "outputs": [],
   "source": [
    "from applications_tech import algorithm_selection"
   ]
  },
  {
   "cell_type": "code",
   "execution_count": null,
   "id": "9ca09e3f",
   "metadata": {},
   "outputs": [],
   "source": [
    "selected_algo = algorithm_selection()"
   ]
  },
  {
   "cell_type": "markdown",
   "id": "91769fcb-0e65-4c6f-ad39-92c71a3fef9f",
   "metadata": {},
   "source": [
    "### Part 3b: Choose input features\n",
    "\n",
    "To recreate Sam's model, you'll use the same input features they used to create their original model. The features they chose are in the table below.\n",
    "\n",
    "| Sam's input features |\n",
    "|----------------------|\n",
    "| TEMP_C_0_m           |\n",
    "| T_DEWPOINT_C_0_m     |\n",
    "\n",
    "> **Instructions**\n",
    "> \n",
    "> Execute the two cells below.\n",
    ">\n",
    "> After executing `create_column_filter_widget()`, select the input features used in Sam's model."
   ]
  },
  {
   "cell_type": "code",
   "execution_count": null,
   "id": "7b558ded",
   "metadata": {},
   "outputs": [],
   "source": [
    "from applications_tech import create_column_filter_widget"
   ]
  },
  {
   "cell_type": "code",
   "execution_count": null,
   "id": "616814c9",
   "metadata": {},
   "outputs": [],
   "source": [
    "widget, get_selected_columns = create_column_filter_widget()\n",
    "display(widget)"
   ]
  },
  {
   "cell_type": "markdown",
   "id": "f2d4df9c",
   "metadata": {},
   "source": [
    "> **Instructions**\n",
    "> \n",
    "> Execute the cell below to filter out any features that will not be used as input to the machine learning model. "
   ]
  },
  {
   "cell_type": "code",
   "execution_count": null,
   "id": "1a873f60-c146-404b-8aa3-3ae782a795a4",
   "metadata": {},
   "outputs": [],
   "source": [
    "X_train_filtered = X_train[get_selected_columns()]\n",
    "X_val_filtered = X_val[get_selected_columns()]\n",
    "X_test_filtered = X_test[get_selected_columns()]"
   ]
  },
  {
   "cell_type": "markdown",
   "id": "262339ca-3763-436d-82be-499961b829cc",
   "metadata": {},
   "source": [
    "<br><br>\n",
    "### Part 3c: Train the Algorithm\n",
    "\n",
    "The training process is what transforms the machine learning algorithm into a supervised machine learning model. You will now train the algorithm to recreate Sam's model.\n",
    "\n",
    "> **Instructions**\n",
    "> \n",
    "> Execute the two cells below.\n",
    ">\n",
    "> After executing `train_button()`, select the Train Algorithm button to initiate the training process. A progress printout will display below the button while the process runs. "
   ]
  },
  {
   "cell_type": "code",
   "execution_count": null,
   "id": "ca993c8c",
   "metadata": {},
   "outputs": [],
   "source": [
    "from applications_tech import train_button"
   ]
  },
  {
   "cell_type": "code",
   "execution_count": null,
   "id": "b44621f0",
   "metadata": {},
   "outputs": [],
   "source": [
    "model_choice = selected_algo()\n",
    "trained_model = train_button(model_choice, X_train_filtered, y_train)"
   ]
  },
  {
   "cell_type": "markdown",
   "id": "dbe5b7ab-6f93-4721-8d0d-9ef075276a0d",
   "metadata": {},
   "source": [
    "<br>\n",
    "\n",
    "### Part 3d: Validate the Model\n",
    "\n",
    "The validation step uses the separate *validation dataset* to evaluate how well the training process performed. The newly trained model takes the environmental variable input features from the validation dataset and outputs a rain or snow classification prediction. We can then take the predictions the model made and compare them to the known *true* classifications. By using a separate validation dataset to evaluate performance, we get a better sense of how well the model can generalize to new inputs. \n",
    "\n",
    "Sam's team calculated the model's **accuracy** to determine how well the model performed, which you will also do in this step. Accuracy is defined as \n",
    "$$ \\frac{\\text{correct predictions}}{\\text{total predictions}} $$\n",
    "\n",
    "Recall that Sam's model returned an **88%** accuracy initially. \n",
    "\n",
    "> **Instructions**\n",
    "> \n",
    "> Execute the two cells below. The model accuracy should be close to the **88%** that Sam and the team originally found.  "
   ]
  },
  {
   "cell_type": "code",
   "execution_count": null,
   "id": "e57ca0cb",
   "metadata": {},
   "outputs": [],
   "source": [
    "# Get the model\n",
    "model = trained_model()\n",
    "\n",
    "y_pred = model.predict(X_val_filtered)"
   ]
  },
  {
   "cell_type": "code",
   "execution_count": null,
   "id": "171d915f",
   "metadata": {},
   "outputs": [],
   "source": [
    "from sklearn.metrics import accuracy_score, precision_recall_fscore_support, confusion_matrix\n",
    "\n",
    "# Get accuracy metric\n",
    "accuracy = (accuracy_score(y_val, y_pred))*100\n",
    "print(f\"Original Model Accuracy (validation dataset): {accuracy:.2f}%\")"
   ]
  },
  {
   "cell_type": "markdown",
   "id": "38770096-2cfa-409a-a89b-4c2feba9a738",
   "metadata": {},
   "source": [
    "<div class=\"alert alert-info\" role=\"alert\">\n",
    "    <p class=\"admonition-title\" style=\"font-weight:bold\">Why does the model not produce 88% accuracy each time?</p>\n",
    "    <p>As discussed in the previous module, machine learning algorithms will generate and test multiple different decision boundaries each time the training process is run. The boundaries they generate are unlikely to be the same each time because of the nature of algorithms. This is a demonstration of machine learning being an <i>approximator</i> and not an exact solution, like an algebraic formula.</p>\n",
    "</div>"
   ]
  },
  {
   "cell_type": "markdown",
   "id": "1fca97a1-566f-493a-a003-1855215ff293",
   "metadata": {},
   "source": [
    "#### Other evaluation metrics\n",
    "While accuracy gives a broad view of how well the model performs, we don't know the specifics. Does the model struggle to classify just rain, just snow, or both? You will calculate additional statistics for Sam and the team to provide additional insight into the model's performance. \n",
    "\n",
    "##### Confusion matrix\n",
    "A confusion matrix is a visual representation of all the predictions the model made. In this two-class model, there can be four kinds of outputs:\n",
    "\n",
    "- Predicted rain, and the true observation (target feature) was rain \n",
    "- Predicted rain, but the true observation was snow\n",
    "- Predicted snow, but the true observation was rain \n",
    "- Predicted snow, and the true observation was snow \n",
    "\n",
    "The confusion matrix shows the number of each of these types outputs in a grid, so we can visualize the predictions that the model generated. \n",
    "\n",
    "\n",
    "> **Instructions**\n",
    "> \n",
    "> Execute the two cells below to generate the confusion matrix."
   ]
  },
  {
   "cell_type": "code",
   "execution_count": null,
   "id": "3be47db0",
   "metadata": {},
   "outputs": [],
   "source": [
    "from applications_tech import plot_confusion_matrix"
   ]
  },
  {
   "cell_type": "code",
   "execution_count": null,
   "id": "8fc80916",
   "metadata": {},
   "outputs": [],
   "source": [
    "fig = plot_confusion_matrix(model.classes_, y_true=y_val, y_pred=y_pred, \n",
    "                           title='Original Model Confusion Matrix')\n",
    "plt.show()"
   ]
  },
  {
   "cell_type": "markdown",
   "id": "2c506497-634f-4e21-9933-d197b5a576ed",
   "metadata": {},
   "source": [
    "The values in the confusion matrix can then be used to quantify additional model evaluation metrics. These metrics help answer specific questions about how well the model performs. \n",
    "\n",
    "##### Precision\n",
    "Precision is a measure of correct predictions for each class. It answers the question *\"When the model predicts rain (or snow), how often is it correct?\"* We calculate the precision of the rain class by\n",
    "\n",
    "$$ \\frac{\\text{correct rain predictions}}{\\text{correct rain predictions + incorrect rain predictions}} $$\n",
    "\n",
    "For example, a rain precision value of 0.65 would tell us that of the times that the model predicted rain, it was correct only 65% of the time. A high-performing model would have a precision value close to 1.\n",
    "\n",
    "##### Recall\n",
    "Recall is a measure of how well the model predicts the correct classification for each class. It answers the question *\"Out of all actual rain (or snow) cases, how many did the model correctly predict?\"* We calculate it as\n",
    "\n",
    "$$ \\frac{\\text{correct rain predictions}}{\\text{total actual rain cases}} $$\n",
    "\n",
    "For example, a rain recall value of .81 would tell us that of all of the true rain cases in the dataset, the model correctly predicted rain in 81% of them. A high-performing model would have a recall value close to 1. \n",
    "\n",
    "##### Comparing Precision and Recall\n",
    "These metrics may seem very similar, but they differ in the types of questions they answer. The table below demonstrates the differences in high and low precision and recall for one class (rain). \n",
    "\n",
    "|                          | High Precision, Low Recall           | High Recall, Low Precision          |\n",
    "|--------------------------|---------------------------------|---------------------------------|\n",
    "| **What happens?**        | The model is **very careful** when predicting rain, but it **misses** a lot of actual rain cases. | The model **catches almost all rain cases**, but it **also makes mistakes**, calling snow \"rain\" a lot. |\n",
    "| **Example**             | Predicts \"rain\" only when very sure, leading to fewer false alarms but missing real rain. | Predicts \"rain\" too often, ensuring real rain isn’t missed but causing more false alarms. |\n",
    "\n",
    "<br>\n",
    "\n",
    "> **Instructions**\n",
    "> \n",
    "> Execute the cell below to generate the original model's precision and recall for each class."
   ]
  },
  {
   "cell_type": "code",
   "execution_count": null,
   "id": "f0e170b0-9502-43b3-96d3-dde0ea1ac9e3",
   "metadata": {},
   "outputs": [],
   "source": [
    "precision, recall, _, _ = precision_recall_fscore_support(y_val, y_pred, average=None, labels=['rain', 'snow'])\n",
    "\n",
    "print(\"Original Model Validation Metrics\")\n",
    "print(f\"Rain Precision: {precision[0]:.3f}\")\n",
    "print(f\"Snow Precision: {precision[1]:.3f}\")\n",
    "print(f\"Rain Recall: {recall[0]:.3f}\")\n",
    "print(f\"Snow Recall: {recall[1]:.3f}\")"
   ]
  },
  {
   "cell_type": "markdown",
   "id": "81c12a24-b114-4cb9-9e89-f2a40de4fec0",
   "metadata": {},
   "source": [
    "<br> \n",
    "\n",
    "### Part 3e: Evaluate and Refine the Model\n",
    "\n",
    "Examine the results of the original model validation and determine what each metric means. Review the descriptions of the evaluation metrics, then complete the next exercise. \n",
    "\n",
    "<div class=\"alert alert-success\" role=\"alert\">\n",
    "<p class=\"admonition-title\" style=\"font-weight:bold\">Exercise 3e</p>\n",
    "    <p>Open your <b>Machine Learning Model Handbook</b> to Exercise 3e. </p>\n",
    "    <p>Paste the validation evaluation metrics in the designated box. </p>\n",
    "    <p>Then describe the results of the original model validation. Include the following:</p>\n",
    "    <ul>\n",
    "        <li>How well does the model predict rain? Support your description with the evaluation metrics. </li>\n",
    "        <li>How well does the model predict snow? Support your description with the evaluation metrics. </li>\n",
    "        <li>How do you interpret these statistics in the context of the physical world?</li>\n",
    "        <li>What changes will you make to try to improve these statistics in the next iteration?</li>\n",
    "    </ul>\n",
    "</div>"
   ]
  },
  {
   "cell_type": "markdown",
   "id": "f1e04a32-e8f9-4a6c-b496-14f7188c4f26",
   "metadata": {},
   "source": [
    "<br> \n",
    "\n",
    "### Part 3f: Iterative Refinement Trials\n",
    "\n",
    "Now that you have recreated Sam's original model, it's now your turn to apply the information you have to refine it. Next,  you'll create **new trials** to improve the evaluation metrics from the validation phase. You may complete as many trials as you like until you are satisfied with the evaluation metrics, or they no longer improve with new trials. \n",
    "\n",
    "> **Instructions**\n",
    "> \n",
    "> Execute the code cells below, selecting your desired model configurations after executing each cell.\n",
    "> \n",
    "> After each new trial, you will copy the validation metrics in your handbook document. See **Exercise 3f**.\n",
    ">\n",
    "> You may complete as many trials in this section (3f) as you like until you are satisfied with the evaluation metrics, or they no longer improve with new trials. \n"
   ]
  },
  {
   "cell_type": "markdown",
   "id": "047ec698-74f5-466b-8d53-75c6559ea289",
   "metadata": {},
   "source": [
    "#### New trial: Choose algorithm \n",
    "\n",
    "In the new trials, you have the option of choosing a new algorithm to train. Review the information about each of the algorithms in section 3a, then make your selection. Remember, you can run as many trials as you'd like. "
   ]
  },
  {
   "cell_type": "code",
   "execution_count": null,
   "id": "d05c3692-73cb-4f47-89b3-3e313dc2541c",
   "metadata": {},
   "outputs": [],
   "source": [
    "selected_algo2 = algorithm_selection()"
   ]
  },
  {
   "cell_type": "markdown",
   "id": "20354af5-dc7a-4f23-9313-abb9eed8954b",
   "metadata": {},
   "source": [
    "#### New trial: Choose input features\n",
    "\n",
    "Sam used environmental variables at the surface level to train the algorithm. As you've seen from the Data Handling phase, the dataset also includes environmental variables at other levels that may provide additional predictive skill. Choose as many input features as you like, but recall that *more data doesn't always produce a better model*. Recall the comparison plots from section 2b and be strategic in your selections. "
   ]
  },
  {
   "cell_type": "code",
   "execution_count": null,
   "id": "93de47ed-1b63-464c-9ac1-71a91b6ed2c8",
   "metadata": {},
   "outputs": [],
   "source": [
    "widget, get_selected_columns2 = create_column_filter_widget()\n",
    "display(widget)"
   ]
  },
  {
   "cell_type": "code",
   "execution_count": null,
   "id": "e7e2d5f4-4cca-4760-8984-c3030b84ad91",
   "metadata": {},
   "outputs": [],
   "source": [
    "X_train_filtered = X_train[get_selected_columns2()]\n",
    "X_val_filtered = X_val[get_selected_columns2()]\n",
    "X_test_filtered = X_test[get_selected_columns2()]"
   ]
  },
  {
   "cell_type": "markdown",
   "id": "38cc8fb7-f202-4843-99bd-f9a9aee30e02",
   "metadata": {},
   "source": [
    "#### New trial: Train algorithm\n",
    "\n",
    "Now, train the algorithm with your selected input features"
   ]
  },
  {
   "cell_type": "code",
   "execution_count": null,
   "id": "cb8eb473-2e30-4d41-aafe-96099b7f9eb3",
   "metadata": {},
   "outputs": [],
   "source": [
    "model_choice = selected_algo2()\n",
    "trained_model2 = train_button(model_choice, X_train_filtered, y_train)"
   ]
  },
  {
   "cell_type": "markdown",
   "id": "62f29327-640e-4a44-ad0a-fe5e635aa55d",
   "metadata": {},
   "source": [
    "#### New trial: Validate model\n",
    "\n",
    "Generate the corresponding confusion matrix and validation metrics."
   ]
  },
  {
   "cell_type": "code",
   "execution_count": null,
   "id": "4ab969b6",
   "metadata": {},
   "outputs": [],
   "source": [
    "from applications_tech import classification_model_eval"
   ]
  },
  {
   "cell_type": "code",
   "execution_count": null,
   "id": "11893e90",
   "metadata": {},
   "outputs": [],
   "source": [
    "model2 = trained_model2()\n",
    "validation_metrics = classification_model_eval(model2, X_val_filtered, y_val, title='Validation')"
   ]
  },
  {
   "cell_type": "markdown",
   "id": "32c25560-246a-4e55-9c95-4cee15f02b24",
   "metadata": {},
   "source": [
    "<br>\n",
    "<div class=\"alert alert-success\" role=\"alert\">\n",
    "<p class=\"admonition-title\" style=\"font-weight:bold\">Exercise 3f</p>\n",
    "    <ul>\n",
    "        <li><b>In your Machine Learning Model Handbook Exercise 3f,</b> paste the full output of each of your validation trials, one per box. </li>\n",
    "        <li>You may complete as many trials as you like until you are satisfied with the evaluation metrics, or they no longer improve with new trials. When complete, move on to the next part below. </li>\n",
    "    </ul>\n",
    "</div>\n",
    "<br>"
   ]
  },
  {
   "cell_type": "markdown",
   "id": "ca49c27b-518a-4e6a-a1dd-0cdb00f862cd",
   "metadata": {},
   "source": [
    "### Part 3g: Test Model\n",
    "\n",
    "<div class=\"alert alert-warning\" role=\"alert\">\n",
    "<p class=\"admonition-title\" style=\"font-weight:bold\">Important</p>\n",
    "    For testing, your model needs to be in a state with your desired algorithm and input features. If you haven't already, go back and run through the cells in Part 3f with your final choices one last time. This ensures that your final testing process will be executed with your desired choices. \n",
    "</div>\n",
    "<br>\n",
    "At this point, you have a trained model with validation metrics you are satisfied with. Next, it's time to test the model on brand new data: the testing dataset. The testing process mimics how the model would be used in a real-world process in a final, unbiased way. \n",
    "\n",
    "Testing looks very similar to validation. You will again review the confusion matrix, accuracy, precision, and recall, but this time the predictions are made with the testing datset. \n",
    "\n",
    "> **Instructions**\n",
    "> \n",
    "> Execute the cell below.\n",
    ">\n",
    "> After executing `classification_model_eval`, your model's testing metrics will appear below as a printout. "
   ]
  },
  {
   "cell_type": "code",
   "execution_count": null,
   "id": "fd6744f3-f5db-41c2-87b0-15dfbb6836a8",
   "metadata": {},
   "outputs": [],
   "source": [
    "test_metrics = classification_model_eval(model2, X_test_filtered, y_test, title='Testing')"
   ]
  },
  {
   "cell_type": "markdown",
   "id": "1de3a36e-7236-4894-b9e7-24cc8ee72be6",
   "metadata": {},
   "source": [
    "### Part 3h: Evaluate and Justify\n",
    "\n",
    "#### Your final decision\n",
    "\n",
    "Given all your evaluation, it's time to make a final recommendation to Sam and the team on whether you believe this model provides sufficient skill for the needs of the situation. Go back and review the problem statement. Does this model deliver the results needed?\n",
    "\n",
    "<div class=\"alert alert-success\" role=\"alert\">\n",
    "<p class=\"admonition-title\" style=\"font-weight:bold\">Exercise 3h</p>\n",
    "    <p>Open your <b>Machine Learning Model Handbook</b> to Exercise 3h.</p>\n",
    "    <p>Paste your testing evaluation metrics in the designated box. </p>\n",
    "    <p>Then  make a final decision on whether this model delivers on the results needed with supporting justification. Include the following:\n",
    "    <ul>\n",
    "        <li>Which precipitation class(es) had the best evaluation metrics? List some physical scientific reasons why this may be the case.</li>\n",
    "        <li>Is this model ready for use in the real world? Why or Why not?</li>\n",
    "        <li>What other possible changes could further improve this model?</li>\n",
    "    </ul>\n",
    "    </p>\n",
    "</div>\n",
    "\n",
    "***"
   ]
  },
  {
   "cell_type": "markdown",
   "id": "5a2b665d-f23d-4313-99db-05d2c8b8cc10",
   "metadata": {},
   "source": [
    "### Conclusion\n",
    "\n",
    "No matter your final decision, the most important aspect is your ability to justify it using data and a robust evaluation. In real-world applications, decision makers rely on this type of analysis to assess risk, costs, and benefits. Rarely is there a single correct answer. What matters is the reasoning behind your choices and how well they align with the environmental context. As you continue learning and exploring new machine learning techniques, remember that each model you build is an opportunity to deepen your understanding. With each step, you gain the expertise to make informed, justifiable decisions that contribute to meaningful scientific and real-world advancements."
   ]
  },
  {
   "cell_type": "markdown",
   "id": "8f80dd1a-a512-49c2-9a9f-bde96c0d31b3",
   "metadata": {},
   "source": [
    "---"
   ]
  },
  {
   "cell_type": "markdown",
   "id": "107bc6f8-0634-4688-80af-5e5e486beec5",
   "metadata": {},
   "source": [
    "#### Acknowledgements\n",
    "\n",
    "This work was supported by NSF Unidata under award #2319979 from the US National Science Foundation. Any opinions, findings, and conclusions or recommendations expressed in this material are those of the author(s) and do not necessarily reflect the views of the National Science Foundation. \n",
    "\n",
    "We thank the <a href=\"https://www.nssl.noaa.gov/\" target=\"blank\">NOAA National Severe Storms Laboratory</a> for contributing <a href=\"https://doi.org/10.1175/BAMS-D-13-00014.1\" target=\"blank\">mPing data</a> to this project. We also thank <a href=\"https://miles.ucar.edu/\" target=\"blank\">NCAR MILES</a> for data processing and support."
   ]
  }
 ],
 "metadata": {
  "kernelspec": {
   "display_name": "Python 3 (ipykernel)",
   "language": "python",
   "name": "python3"
  },
  "language_info": {
   "codemirror_mode": {
    "name": "ipython",
    "version": 3
   },
   "file_extension": ".py",
   "mimetype": "text/x-python",
   "name": "python",
   "nbconvert_exporter": "python",
   "pygments_lexer": "ipython3",
   "version": "3.11.11"
  }
 },
 "nbformat": 4,
 "nbformat_minor": 5
}
