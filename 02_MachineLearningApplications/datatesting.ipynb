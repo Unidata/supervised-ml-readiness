{
 "cells": [
  {
   "cell_type": "code",
   "execution_count": 1,
   "id": "32926ce0-184d-4944-98c7-879a556e627a",
   "metadata": {},
   "outputs": [],
   "source": [
    "import numpy as np\n",
    "import pandas as pd\n",
    "import seaborn as sns\n",
    "import matplotlib.pyplot as plt\n",
    "from sklearn.utils import resample\n",
    "from sklearn.model_selection import train_test_split\n",
    "from sklearn.preprocessing import StandardScaler\n",
    "from sklearn.linear_model import LogisticRegression\n",
    "from sklearn.metrics import accuracy_score, precision_recall_fscore_support, confusion_matrix\n",
    "\n",
    "# Location of the data on the THREDDS data server (will update with final dataset)\n",
    "file_path = '../ptype_data/ptype_sampled_big.parquet'\n",
    "\n",
    "# Read data into this workspace\n",
    "df = pd.read_parquet(file_path) \n",
    "\n",
    "suffixes = ['_0_m', '_1000_m', '_5000_m', 'ptype']\n",
    "selected_columns = [col for col in df.columns if any(col.endswith(f\"_{suffix}\") or col.endswith(suffix) for suffix in suffixes)]\n",
    "filtered_df = df[selected_columns]"
   ]
  },
  {
   "cell_type": "code",
   "execution_count": 2,
   "id": "2575a5c3-2027-44f0-a758-d3bb6fab0bc9",
   "metadata": {},
   "outputs": [],
   "source": [
    "def create_noisy_samples(df, temp_range=(-4, 4), center=0, \n",
    "                        base_noise=0.1, peak_noise=0.75, \n",
    "                        n_samples=1000):\n",
    "    \"\"\"\n",
    "    Create new samples with temperature-dependent Gaussian noise.\n",
    "    \n",
    "    Parameters:\n",
    "    - df: Original dataframe\n",
    "    - temp_range: Tuple of (min_temp, max_temp) to filter data\n",
    "    - center: Temperature at which noise is maximum\n",
    "    - base_noise: Minimum noise level\n",
    "    - peak_noise: Maximum noise level at center temperature\n",
    "    - n_samples: Number of synthetic samples to generate\n",
    "    \n",
    "    Returns:\n",
    "    - New dataframe with added noise\n",
    "    \"\"\"\n",
    "    # Find all temperature columns at 0_m level (to filter rows)\n",
    "    temp_cols_0m = [col for col in df.columns if 'TEMP_C_0_m' in col]\n",
    "    \n",
    "    # Filter rows where surface temperature is within the range\n",
    "    if temp_cols_0m:\n",
    "        mask = (df[temp_cols_0m[0]] >= temp_range[0]) & (df[temp_cols_0m[0]] <= temp_range[1])\n",
    "        filtered_df = df[mask].copy()\n",
    "    else:\n",
    "        filtered_df = df.copy()\n",
    "    \n",
    "    if len(filtered_df) == 0:\n",
    "        return pd.DataFrame(columns=df.columns)\n",
    "    \n",
    "    # Oversample from the filtered data\n",
    "    oversampled = resample(filtered_df, \n",
    "                          replace=True, \n",
    "                          n_samples=n_samples, \n",
    "                          random_state=42)\n",
    "    \n",
    "    # Create new dataframe for noisy samples\n",
    "    noisy_samples = oversampled.copy()\n",
    "    \n",
    "    # Identify columns to add noise to (all except 'ptype')\n",
    "    cols_to_noise = [col for col in noisy_samples.columns if col != 'ptype']\n",
    "    \n",
    "    # For each row, calculate noise scaling based on TEMP_C_0_m\n",
    "    surface_temps = noisy_samples['TEMP_C_0_m'].values\n",
    "    dist_from_center = np.abs(surface_temps - center) / max(abs(temp_range[0] - center), abs(temp_range[1] - center))\n",
    "    noise_scale = base_noise + (peak_noise - base_noise) * np.exp(-(dist_from_center**2) / 0.5)\n",
    "    \n",
    "    # Add appropriately scaled noise to each column\n",
    "    for col in cols_to_noise:\n",
    "        # Determine appropriate noise scale for this column type\n",
    "        if 'TEMP_C' in col or 'T_DEWPOINT_C' in col:\n",
    "            # Temperature columns get full noise\n",
    "            col_noise_scale = noise_scale * 0.7\n",
    "        elif 'UGRD' in col or 'VGRD' in col:\n",
    "            # Wind components get 50% of the noise\n",
    "            col_noise_scale = noise_scale * 0.5\n",
    "        elif 'PRES' in col:\n",
    "            # Pressure gets 20% of the noise\n",
    "            col_noise_scale = noise_scale * 0.2\n",
    "        else:\n",
    "            col_noise_scale = noise_scale * 0.7\n",
    "            \n",
    "        # Add the scaled noise\n",
    "        values = noisy_samples[col].values\n",
    "        noise = np.random.normal(0, col_noise_scale, size=len(values))\n",
    "        noisy_samples[col] = values + noise\n",
    "    \n",
    "    # The 'ptype' column is not modified, so it retains the original values\n",
    "    # We don't need to do anything special since we excluded it from cols_to_noise\n",
    "    \n",
    "    return noisy_samples"
   ]
  },
  {
   "cell_type": "code",
   "execution_count": 5,
   "id": "1c82ff4b-7997-42bd-9acf-9281e3138d55",
   "metadata": {},
   "outputs": [],
   "source": [
    "new_df = create_noisy_samples(\n",
    "    df=filtered_df,\n",
    "    temp_range=(-4, 10),\n",
    "    center=0,\n",
    "    base_noise=1.5,\n",
    "    peak_noise=4,\n",
    "    n_samples=3000\n",
    ")\n",
    "\n",
    "df = pd.concat([filtered_df, new_df], ignore_index=True)"
   ]
  },
  {
   "cell_type": "code",
   "execution_count": 4,
   "id": "2558dd56-0b7a-43d1-bd2f-2afa706e8ea8",
   "metadata": {},
   "outputs": [],
   "source": [
    "#sns.pairplot(df, hue='ptype')"
   ]
  },
  {
   "cell_type": "code",
   "execution_count": 6,
   "id": "372ffe03-bf33-48f6-bc2f-b6d64fb4e827",
   "metadata": {},
   "outputs": [
    {
     "name": "stdout",
     "output_type": "stream",
     "text": [
      "Original Model Accuracy (validation dataset): 90.10%\n"
     ]
    }
   ],
   "source": [
    "X = df[['TEMP_C_0_m', 'T_DEWPOINT_C_0_m']]\n",
    "# X = df[['TEMP_C_0_m', 'T_DEWPOINT_C_0_m', 'TEMP_C_1000_m', 'T_DEWPOINT_C_1000_m', 'TEMP_C_5000_m', 'T_DEWPOINT_C_5000_m' ]]\n",
    "# X = df[['TEMP_C_0_m', 'T_DEWPOINT_C_0_m']]\n",
    "y = df['ptype']\n",
    "\n",
    "# Splitting into training and temporary set (70% training, 30% temporary)\n",
    "X_train, X_temp, y_train, y_temp = train_test_split(X, y, test_size=0.3, random_state=42)\n",
    "\n",
    "# Splitting the temporary set into testing and validation sets (20% testing, 10% validation of the original dataset)\n",
    "X_test, X_val, y_test, y_val = train_test_split(X_temp, y_temp, test_size=1/3, random_state=42)\n",
    "\n",
    "scaler = StandardScaler()\n",
    "\n",
    "# Fit the scaler to the training data and transform it\n",
    "X_train_scaled = scaler.fit_transform(X_train)\n",
    "\n",
    "# Transform the testing and validation data using the same scaler\n",
    "X_test_scaled = scaler.transform(X_test)\n",
    "X_val_scaled = scaler.transform(X_val)\n",
    "\n",
    "# Initialize the Logistic Regression model\n",
    "model = LogisticRegression()\n",
    "\n",
    "# Train the model with the training data\n",
    "model.fit(X_train_scaled, y_train)\n",
    "\n",
    "# Predicting the Test set results\n",
    "y_pred = model.predict(X_test_scaled)\n",
    "\n",
    "# Get accuracy metric\n",
    "accuracy = (accuracy_score(y_test, y_pred))*100\n",
    "print(f\"Original Model Accuracy (validation dataset): {accuracy:.2f}%\")"
   ]
  },
  {
   "cell_type": "code",
   "execution_count": 22,
   "id": "807bb19e-69a6-4e80-814e-4af8a79ca68e",
   "metadata": {},
   "outputs": [
    {
     "data": {
      "image/png": "[encoded data removed]",
      "text/plain": [
       "<Figure size 640x480 with 1 Axes>"
      ]
     },
     "metadata": {},
     "output_type": "display_data"
    }
   ],
   "source": [
    "var = ['VGRD_m/s_0_m']\n",
    "name = 'V-Windspeed (m/s) @ 0 m'\n",
    "units = 'm/s'\n",
    "fig, ax = plt.subplots(1, 1, tight_layout=True)\n",
    "ax.hist(df[var], bins=30, color='#eaeaea', edgecolor='black')\n",
    "ax.set_title(name, fontsize=14)\n",
    "ax.set_xlabel(units)\n",
    "ax.set_ylabel(\"Number of records\")\n",
    "plt.show()\n",
    "\n"
   ]
  }
 ],
 "metadata": {
  "kernelspec": {
   "display_name": "Python 3 (ipykernel)",
   "language": "python",
   "name": "python3"
  },
  "language_info": {
   "codemirror_mode": {
    "name": "ipython",
    "version": 3
   },
   "file_extension": ".py",
   "mimetype": "text/x-python",
   "name": "python",
   "nbconvert_exporter": "python",
   "pygments_lexer": "ipython3",
   "version": "3.11.11"
  }
 },
 "nbformat": 4,
 "nbformat_minor": 5
}
