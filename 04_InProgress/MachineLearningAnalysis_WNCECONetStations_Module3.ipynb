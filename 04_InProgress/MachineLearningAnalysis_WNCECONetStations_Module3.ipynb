{
 "cells": [
  {
   "cell_type": "markdown",
   "id": "9805bfd2-b31d-4b2f-b325-a409c27f96c7",
   "metadata": {},
   "source": [
    "<img src=\"https://elearning.unidata.ucar.edu/dataeLearning/Cybertraining/analysis/media/NSF-Unidata_lockup_vertical_2023.png\" width=\"150px\" align=\"right\">\n",
    "\n",
    "# Machine Learning Analysis in the Earth Systems Sciences\n",
    "\n",
    "In this module, you are tasked with planning, implementing, and evaluating a machine learning solution for a real-world scenario. Given pre-configured code blocks and prepared data, you will create a problem statement, explore the data, experiment with model development, and ultimately make a recommendation on the utility of machine learning for your scenario."
   ]
  },
  {
   "cell_type": "markdown",
   "id": "d4e3747f-a6cf-4326-9e5c-67117de117b9",
   "metadata": {},
   "source": [
    "# Damaged weather station in western North Carolina\n",
    "\n",
    "In the fall of 2024, a major hurricane devastated western North Carolina and Appalachia. This caused widespread damage, including damage to important weather observing instruments. Play the video below to learn more about the situation, and how machine learning might be a helpful tool.<br><i>Video opens in a new tab.</i>\n",
    "\n",
    "<a href=\"https://elearning.unidata.ucar.edu/dataeLearning/Cybertraining/analysis/media/wncvideo\" target=\"blank\"><img src=\"https://elearning.unidata.ucar.edu/dataeLearning/Cybertraining/analysis/media/stationsslides_thumb.png\" width=\"600 px\">\n",
    "</a>\n",
    "\n",
    "<a href=\"https://www.google.com/url?q=https://docs.google.com/document/d/e/2PACX-1vRfYtUFjLVfNadQ0nvUv4E8MzfaXmQwt_WcP0haCo5bH1J0zGZiupiJz7XuLsun2BqN-g_ubbACpx6p/pub&sa=D&source=docs&ust=1738596555923034&usg=AOvVaw2xJ1FEg1SflwC6i3P5uQqD\" target=\"blank\">Transcript</a>\n",
    "\n",
    "<div class=\"alert alert-info\" role=\"alert\">\n",
    "<p class=\"admonition-title\" style=\"font-weight:bold\">What is a data engineer?</p>\n",
    "    <p>Your team includes yourself, your team lead, and a data engineer. Data engineering is an emerging career that encompasses the collection, storage, and pre-processing of data in data science disciplines. You will see the type of work that the data engineer on your team does in <i>Part 2: Data Handling.</i></p>\n",
    "    <p><a href=\"https://www.mongodb.com/resources/basics/data-engineering#what-is-data-engineering\" target=\"blank\">Learn more</a></p>\n",
    "</div>\n",
    "<br><br>"
   ]
  },
  {
   "cell_type": "markdown",
   "id": "6e5cad94-efb5-4291-830e-64a8ad7ea483",
   "metadata": {},
   "source": [
    "Now you will begin the process of following the supervised machine learning model framework to address this task, starting with <b>problem framing</b>.\n",
    "<center><a href=\"https://elearning.unidata.ucar.edu/dataeLearning/Cybertraining/analysis/media/RevisedFull_NOPROCESS_.png\" target=\"blank\"><img src=\"https://elearning.unidata.ucar.edu/dataeLearning/Cybertraining/analysis/media/RevisedFull_NOPROCESS_.png\"></a><br><i>Click to enlarge</i></center>\n",
    "<br><br>"
   ]
  },
  {
   "cell_type": "markdown",
   "id": "ea8ffff5-7731-4142-bd98-d9f5db95dd13",
   "metadata": {},
   "source": [
    "## Part 1: Problem Framing\n",
    "\n",
    "Based on the information provided in the video, which type of machine learning analysis is most appropriate for this scenario? \n",
    "\n",
    "> **Instructions**\n",
    "> \n",
    "> Execute the two cells below. After executing `display_knowledgecheck()`, select the corresponding button to check your understanding."
   ]
  },
  {
   "cell_type": "code",
   "execution_count": 2,
   "id": "9bee4cd7-65d4-47b5-b461-48d17890a0db",
   "metadata": {},
   "outputs": [],
   "source": [
    "# First import the Python tools needed to display the buttons\n",
    "# This cell may take a moment to complete\n",
    "import ipywidgets as widgets\n",
    "import matplotlib.pyplot as plt\n",
    "from IPython.display import display, clear_output, HTML, IFrame\n",
    "\n",
    "from analysis_tech import display_knowledgecheck"
   ]
  },
  {
   "cell_type": "code",
   "execution_count": 3,
   "id": "3d8d6ddc",
   "metadata": {},
   "outputs": [
    {
     "data": {
      "application/vnd.jupyter.widget-view+json": {
       "model_id": "f6df36a501f74faf870bdb212bd73773",
       "version_major": 2,
       "version_minor": 0
      },
      "text/plain": [
       "HTML(value='Which type of machine learning analysis is most appropriate for this scenario?')"
      ]
     },
     "metadata": {},
     "output_type": "display_data"
    },
    {
     "data": {
      "application/vnd.jupyter.widget-view+json": {
       "model_id": "2cea7b472ef34e459c0ab6469b7730a5",
       "version_major": 2,
       "version_minor": 0
      },
      "text/plain": [
       "HBox(children=(Button(description='Classification', layout=Layout(height='200px', margin='10px', width='200px'…"
      ]
     },
     "metadata": {},
     "output_type": "display_data"
    },
    {
     "data": {
      "application/vnd.jupyter.widget-view+json": {
       "model_id": "0d39aae293a84b96ab52dec6434d47d4",
       "version_major": 2,
       "version_minor": 0
      },
      "text/plain": [
       "Output()"
      ]
     },
     "metadata": {},
     "output_type": "display_data"
    }
   ],
   "source": [
    "display_knowledgecheck()"
   ]
  },
  {
   "cell_type": "markdown",
   "id": "a3c41fcf-e3c0-488e-9c71-de6c5d088b12",
   "metadata": {},
   "source": [
    "#### Problem framing questions\n",
    "As a part of the problem framing step, we must answer a series of questions to ensure we're creating the best solution for this scenario. \n",
    "\n",
    "***Does a simpler solution exist?***\n",
    "\n",
    "&emsp;From the video, we know that your team has already completed a preliminary analysis that averaged values from nearby stations to Mt Mitchell. While these results showed some skill, there is room for improvement. \n",
    "\n",
    "***Can machine learning requirements be met?***\n",
    "\n",
    "&emsp;The NC ECONet data provider has decades of hourly data available from several weather stations. This is sufficient for your model. \n",
    "\n",
    "***Which scientific question should be answered?***\n",
    "\n",
    "&emsp;You will answer this question in **Exercise 1** below. \n",
    "\n",
    "<br>"
   ]
  },
  {
   "cell_type": "markdown",
   "id": "4cd95337-12f5-4e9b-a786-979ebad08b20",
   "metadata": {},
   "source": [
    "<div class=\"alert alert-success\" role=\"alert\">\n",
    "<p class=\"admonition-title\" style=\"font-weight:bold\">Exercise 1</p>\n",
    "    <p>Open your <b>Machine Learning Model Handbook</b> to Exercise 1. Then type the scientific question to be answered for this situation.</p>\n",
    "</div>\n",
    "<br>\n",
    "\n",
    "*** \n",
    "\n",
    "<br>"
   ]
  },
  {
   "cell_type": "markdown",
   "id": "40af46bf-61eb-4cdd-8701-aa774ffce5af",
   "metadata": {},
   "source": [
    "## Part 2: Data Handling\n",
    "\n",
    "<center><a href=\"https://elearning.unidata.ucar.edu/dataeLearning/Cybertraining/analysis/media/RevisedFull_NOPROCESS_.png\" target=\"blank\"><img src=\"https://elearning.unidata.ucar.edu/dataeLearning/Cybertraining/analysis/media/RevisedFull_NOPROCESS_.png\"></a><br><i>Click to enlarge</i></center>\n",
    "<br><br>\n",
    "\n",
    "Recall that data handling is often the most time-consuming step of developing a machine learning model. Data handling comes in three parts:\n",
    "1. Locate data of interest\n",
    "2. Explore data\n",
    "3. Create a data splitting strategy\n",
    "\n",
    "Your team's data engineer has located the data and completed the pre-processing for you already. You will continue with your own independent exploration of the data and then create a data splitting strategy. \n",
    "\n",
    "<br>\n",
    "\n",
    "### Part 2a: Locate Data of Interest\n",
    "\n",
    "You will be using other stations in the <a href=\"https://econet.climate.ncsu.edu/\" target=\"blank\">NC ECONet</a> for this project. Below is a document that your team's data engineer has prepared for you describing the nature of the dataset that will be used to create the machine learning model. <br><br>\n",
    "\n",
    "<div class=\"alert alert-info\" role=\"alert\">\n",
    "\n",
    "### Metadata Document for Western North Carolina Weather Station Data\n",
    "\n",
    "#### General Information\n",
    "\n",
    "Dataset Name: Western NC Weather Station Time-Series Data\n",
    "\n",
    "Description: This dataset contains tabular time series data collected from multiple surface weather stations in Western North Carolina. The data includes atmospheric and environmental variables recorded at hourly intervals.\n",
    "\n",
    "Date Range: January 1, 2015, to December 16, 2024\n",
    "\n",
    "Geographic Coverage: Western North Carolina \n",
    "\n",
    "Data Frequency: Hourly\n",
    "\n",
    "Last Updated: Jan 1, 2025\n",
    "\n",
    "#### Data Structure\n",
    "\n",
    "File Format: .parquet\n",
    "\n",
    "Number of Records: 69,760 per station per environmental variable (feature)\n",
    "\n",
    "Columns (Features) \n",
    "\n",
    "- observation_datetime: Date and time of observation in UTC\n",
    "\n",
    "Columns (features) per Station (XXXX):\n",
    "\n",
    "- XXXX_airtemp_degF (°F): Air temperature measured at 2 meters above ground level\n",
    "- XXXX_windspeed_mph (mph): Average wind speed during the hour at 10 meters above ground level\n",
    "- XXXX_winddgust_mph (mph): Peak wind gust during the hour at 10 meters above ground level\n",
    "- XXXX_rh_percent (%): Average Relative humidity\n",
    "- XXXX_precip_in (in): Total precipitation accumulated in the hour\n",
    "\n",
    "Stations:\n",
    "\n",
    "- BEAR (Bearwallow Mountain)\n",
    "- BURN (Burnsville Tower)\n",
    "- FRYI (Frying Pan Mountain)\n",
    "- JEFF (Mount Jefferson Tower)\n",
    "- **MITC (Mount Mitchell State Park) - target station**\n",
    "- NCAT (North Carolina A&T University Research Farm)\n",
    "- SALI (Piedmont Research Station)\n",
    "- SASS (Sassafrass Mountain)\n",
    "- UNCA (University of North Carolina - Asheville Weather Tower)\n",
    "- WINE (Wayah Bald Mountain)\n",
    "\n",
    "<a href=\"https://econet.climate.ncsu.edu/\" target=\"blank\">More station info</a>\n",
    "\n",
    "#### Data Quality\n",
    "\n",
    "Missing Data: Missing data (aside from MITC) was filled in using seasonal values and simple interpolation.\n",
    "\n",
    "Outlier Handling: No outlier handling was done. \n",
    "\n",
    "#### Data Provenance\n",
    "\n",
    "Source: North Carolina State Climate Office ECONet (<a href=\"https://journals.ametsoc.org/view/journals/atot/40/6/JTECH-D-22-0079.1.xml\" target=\"blank\">Citation</a>)\n",
    "\n",
    "</div>\n",
    "<br><br>"
   ]
  },
  {
   "cell_type": "markdown",
   "id": "a3ce9319-3e5c-4632-a488-b777f93c9603",
   "metadata": {},
   "source": [
    "### Part 2b: Explore Data\n",
    "\n",
    "While your data engineer colleague prepared the data for your model and created the metadata document, you will still need to familiarize yourself with the data before you use it as input to a machine learning algorithm. In this step, you will take a closer look at the potential features for your model with a few plots. \n",
    "\n",
    "First, let's read the data into this workspace. The data resides on a remote THREDDS Data Server, which serves data to users without the need to manually download files to a local computer. When you execute the code cell below, you will load the Python library `pandas` that includes all the tools for reading the data from the THREDDS Data Server and opening it in this workspace. \n",
    "\n",
    "> **Instructions**\n",
    "> \n",
    "> Execute the  cell below.\n",
    "> \n",
    "> *This may take a moment to complete.*"
   ]
  },
  {
   "cell_type": "code",
   "execution_count": 4,
   "id": "f6d6c37c-c245-4006-9e15-2c3674b17da2",
   "metadata": {},
   "outputs": [],
   "source": [
    "# Import the pandas and numpy Python library that can interpret the data file\n",
    "import pandas as pd\n",
    "import numpy as np\n",
    "\n",
    "# Location of the data on the THREDDS data server\n",
    "file_path = 'clear_creek_hydro.parquet'\n",
    "\n",
    "# Read data into this workspace\n",
    "df = pd.read_parquet(file_path)"
   ]
  },
  {
   "cell_type": "markdown",
   "id": "4557a370-47ac-4762-ab41-b3dabb6e678c",
   "metadata": {},
   "source": [
    "The ***target features*** (the features that we are trying to predict with the machine learning model) are temperature, relative humidity, wind speed, wind gust, and precipitation at the Mt. Mitchell station. Data from the other nearby stations are possible ***input features*** to the model. \n",
    "\n",
    "#### Explore target features\n",
    "\n",
    "Let's now explore just the target features at Mt. Mitchell.  \n",
    "\n",
    "\n",
    "> **Instructions**\n",
    "> \n",
    "> Execute the two cells below.\n",
    "> \n",
    "> In the Mt. Mitchell plotting widget, select the environmental variable and plot type from the dropdowns, then select Plot to reveal the plot.\n",
    ">\n",
    "> Repeat for any and all variables you want to explore to better understand the data at Mt. Mitchell."
   ]
  },
  {
   "cell_type": "code",
   "execution_count": 5,
   "id": "fb05b604",
   "metadata": {},
   "outputs": [],
   "source": [
    "from analysis_tech import display_golden_wier_dashboard"
   ]
  },
  {
   "cell_type": "code",
   "execution_count": 6,
   "id": "c9581a96",
   "metadata": {},
   "outputs": [
    {
     "data": {
      "application/vnd.jupyter.widget-view+json": {
       "model_id": "2ae1ad07cdd141ebab7f6dcf22af4387",
       "version_major": 2,
       "version_minor": 0
      },
      "text/plain": [
       "HTML(value='<h3>Golden Wier Hydrograph Dashboard</h3>')"
      ]
     },
     "metadata": {},
     "output_type": "display_data"
    },
    {
     "data": {
      "application/vnd.jupyter.widget-view+json": {
       "model_id": "53f479e3ba1d42859037a9930b2bcdac",
       "version_major": 2,
       "version_minor": 0
      },
      "text/plain": [
       "Dropdown(description='Plot Type:', options=('Histogram', 'Annual Time Series', 'Yearly Comparison'), value='Hi…"
      ]
     },
     "metadata": {},
     "output_type": "display_data"
    },
    {
     "data": {
      "application/vnd.jupyter.widget-view+json": {
       "model_id": "9141673998914022bb47dbd8114a8cc3",
       "version_major": 2,
       "version_minor": 0
      },
      "text/plain": [
       "Button(button_style='primary', description='Generate Plot', style=ButtonStyle(), tooltip='Click to generate th…"
      ]
     },
     "metadata": {},
     "output_type": "display_data"
    },
    {
     "data": {
      "application/vnd.jupyter.widget-view+json": {
       "model_id": "4936d0bb6fa34fd1861e8783700b389d",
       "version_major": 2,
       "version_minor": 0
      },
      "text/plain": [
       "Output()"
      ]
     },
     "metadata": {},
     "output_type": "display_data"
    }
   ],
   "source": [
    "display_golden_wier_dashboard(df)"
   ]
  },
  {
   "attachments": {},
   "cell_type": "markdown",
   "id": "ba0556d7-3f62-486a-8940-85395948e0be",
   "metadata": {},
   "source": [
    "#### Explore input features\n",
    "\n",
    "Now we will explore the ***input features***. Below is a map of where the stations are located in relation to MITC. Western North Carolina is a part of the Appalachian Mountains in the eastern United States, so stations are located at a variety of elevations. To further explore the terrain in the area, click the image below to open an interactive 3D map.   \n",
    "\n",
    "<center><a href=\"https://ncar.maps.arcgis.com/apps/instant/3dviewer/index.html?appid=50f8315bfb4742ce9468e25eaf53c12e\" target=\"blank\"><img src=\"https://elearning.unidata.ucar.edu/dataeLearning/Cybertraining/analysis/media/stationmap_pro.png\" width=\"500 px\"></a><br>\n",
    "<i>Click to open interactive map</i></center>\n",
    "\n",
    "> **Instructions**\n",
    "> \n",
    "> Execute the two cells below.\n",
    ">\n",
    "> In the Input Stations plotting widget, select the station, environmental variable, and plot type from the dropdowns. Then select Plot to reveal the plot.\n",
    ">\n",
    "> Repeat for any and all variables you want to explore to better understand the data at each station."
   ]
  },
  {
   "cell_type": "code",
   "execution_count": null,
   "id": "68121f82",
   "metadata": {},
   "outputs": [],
   "source": [
    "from analysis_tech import display_discharge_dashboard"
   ]
  },
  {
   "cell_type": "code",
   "execution_count": 16,
   "id": "e12ba1d8",
   "metadata": {},
   "outputs": [],
   "source": [
    "def display_discharge_dashboard(hydrograph_data):\n",
    "    \"\"\"Creates and displays interactive dashboard for multiple hydrograph stations.\"\"\"\n",
    "    \n",
    "    # Define the discharge columns (excluding Golden Wier)\n",
    "    discharge_columns = [col for col in hydrograph_data.columns \n",
    "                         if 'daily_mean_discharge' in col and 'GOLDEN' not in col]\n",
    "    \n",
    "    # Create more descriptive location names\n",
    "    location_names = {\n",
    "        'daily_mean_discharge_LEAV_GTOWN': 'Georgetown',\n",
    "        'daily_mean_discharge_WF_EMPIRE': 'West Fork at Empire',\n",
    "        'daily_mean_discharge_MAIN_LAWSN': 'Lawson',\n",
    "        'daily_mean_discharge_N_BLKHAWK': 'North Clear Creek at Blackhawk'\n",
    "    }\n",
    "    \n",
    "    # Create interface controls\n",
    "    location_dropdown = widgets.Dropdown(\n",
    "        options=[(location_names.get(col, col), col) for col in discharge_columns],\n",
    "        description='Location:',\n",
    "        disabled=False,\n",
    "    )\n",
    "    \n",
    "    # Set default value after creating options\n",
    "    if len(discharge_columns) > 0:\n",
    "        location_dropdown.value = discharge_columns[0]\n",
    "    \n",
    "    plot_dropdown = widgets.Dropdown(\n",
    "        options=['Histogram', 'Annual Time Series', 'Yearly Comparison'],\n",
    "        value='Histogram',\n",
    "        description='Plot Type:',\n",
    "        disabled=False,\n",
    "    )\n",
    "    \n",
    "    plot_button = widgets.Button(\n",
    "        description='Generate Plot',\n",
    "        button_style='primary',\n",
    "        tooltip='Click to generate the plot',\n",
    "    )\n",
    "    \n",
    "    output = widgets.Output()\n",
    "    \n",
    "    def on_plot_button_click(b):\n",
    "        with output:\n",
    "            clear_output(wait=True)\n",
    "            \n",
    "            if not discharge_columns:\n",
    "                print(\"No discharge columns found in the dataset (excluding Golden).\")\n",
    "                return\n",
    "                \n",
    "            selected_column = location_dropdown.value\n",
    "            # Get the location name directly from the dictionary\n",
    "            location_name = location_names.get(selected_column, selected_column)\n",
    "            \n",
    "            if plot_dropdown.value == 'Histogram':\n",
    "                fig, ax = plt.subplots(1, 1, tight_layout=True)\n",
    "                data_to_plot = hydrograph_data[selected_column].dropna()\n",
    "                if len(data_to_plot) == 0:\n",
    "                    print(f\"No data available for {location_name}\")\n",
    "                    return\n",
    "                ax.hist(data_to_plot, bins=30, color='skyblue', edgecolor='black')\n",
    "                ax.set_title(f\"Histogram of Daily Mean Discharge at {location_name}\", fontsize=14)\n",
    "                ax.set_xlabel(\"Daily Mean Discharge\")\n",
    "                ax.set_ylabel(\"Number of records\")\n",
    "                plt.show()\n",
    "            \n",
    "            elif plot_dropdown.value == 'Annual Time Series':\n",
    "                # Ensure required columns exist\n",
    "                if 'year' not in hydrograph_data.columns or 'day_of_year' not in hydrograph_data.columns:\n",
    "                    print(\"Error: Data missing 'year' or 'day_of_year' columns needed for this plot\")\n",
    "                    return\n",
    "                \n",
    "                # Group by year and day of year for annual comparison\n",
    "                years = sorted(hydrograph_data['year'].unique())\n",
    "                if len(years) == 0:\n",
    "                    print(\"No year data available for plotting\")\n",
    "                    return\n",
    "                    \n",
    "                fig, ax = plt.subplots(1, 1, figsize=(10, 6), tight_layout=True)\n",
    "                \n",
    "                for year in years:\n",
    "                    year_data = hydrograph_data[hydrograph_data['year'] == year]\n",
    "                    if len(year_data) == 0:\n",
    "                        continue\n",
    "                    year_data = year_data.sort_values('day_of_year')\n",
    "                    # Only plot if we have data\n",
    "                    if not year_data[selected_column].isna().all():\n",
    "                        ax.plot(year_data['day_of_year'], year_data[selected_column], \n",
    "                               label=str(year))\n",
    "                \n",
    "                ax.set_title(f\"Annual Comparison of Daily Mean Discharge at {location_name}\", fontsize=14)\n",
    "                ax.set_xlabel(\"Day of Year\")\n",
    "                ax.set_ylabel(\"Daily Mean Discharge\")\n",
    "                ax.legend(title=\"Year\")\n",
    "                plt.show()\n",
    "                \n",
    "            elif plot_dropdown.value == 'Yearly Comparison':\n",
    "                # Ensure required column exists\n",
    "                if 'year' not in hydrograph_data.columns:\n",
    "                    print(\"Error: Data missing 'year' column needed for this plot\")\n",
    "                    return\n",
    "                \n",
    "                # Calculate yearly averages\n",
    "                yearly_avg = hydrograph_data.groupby('year')[selected_column].mean().reset_index()\n",
    "                \n",
    "                if len(yearly_avg) == 0:\n",
    "                    print(\"No data available for yearly comparison\")\n",
    "                    return\n",
    "                    \n",
    "                fig, ax = plt.subplots(1, 1, tight_layout=True)\n",
    "                ax.bar(yearly_avg['year'].astype(str), yearly_avg[selected_column], \n",
    "                      color='green', edgecolor='black')\n",
    "                ax.set_title(f\"Yearly Average Discharge at {location_name}\", fontsize=14)\n",
    "                ax.set_xlabel(\"Year\")\n",
    "                ax.set_ylabel(\"Average Daily Mean Discharge\")\n",
    "                plt.xticks(rotation=45)\n",
    "                plt.show()\n",
    "    \n",
    "    # Connect button to visualization update function\n",
    "    plot_button.on_click(on_plot_button_click)\n",
    "    \n",
    "    # Display dashboard elements\n",
    "    display(widgets.HTML(value=\"<h3>Hydrograph Stations Dashboard</h3>\"), \n",
    "           location_dropdown,\n",
    "           plot_dropdown, \n",
    "           plot_button, \n",
    "           output)"
   ]
  },
  {
   "cell_type": "code",
   "execution_count": null,
   "id": "e81b0e1d",
   "metadata": {},
   "outputs": [
    {
     "data": {
      "application/vnd.jupyter.widget-view+json": {
       "model_id": "c0e16e6aaf0e438f98b59543e404b86d",
       "version_major": 2,
       "version_minor": 0
      },
      "text/plain": [
       "HTML(value='<h3>Hydrograph Stations Dashboard</h3>')"
      ]
     },
     "metadata": {},
     "output_type": "display_data"
    },
    {
     "data": {
      "application/vnd.jupyter.widget-view+json": {
       "model_id": "d43ffbde84d84a499e5371464f6e74a3",
       "version_major": 2,
       "version_minor": 0
      },
      "text/plain": [
       "Dropdown(description='Location:', options=(('Georgetown', 'daily_mean_discharge_LEAV_GTOWN'), ('West Fork at E…"
      ]
     },
     "metadata": {},
     "output_type": "display_data"
    },
    {
     "data": {
      "application/vnd.jupyter.widget-view+json": {
       "model_id": "a1c5979f5ab545d3b5d13ba4288c97fc",
       "version_major": 2,
       "version_minor": 0
      },
      "text/plain": [
       "Dropdown(description='Plot Type:', options=('Histogram', 'Annual Time Series', 'Yearly Comparison'), value='Hi…"
      ]
     },
     "metadata": {},
     "output_type": "display_data"
    },
    {
     "data": {
      "application/vnd.jupyter.widget-view+json": {
       "model_id": "427f66d9dd6540728c067ad45ee99e23",
       "version_major": 2,
       "version_minor": 0
      },
      "text/plain": [
       "Button(button_style='primary', description='Generate Plot', style=ButtonStyle(), tooltip='Click to generate th…"
      ]
     },
     "metadata": {},
     "output_type": "display_data"
    },
    {
     "data": {
      "application/vnd.jupyter.widget-view+json": {
       "model_id": "74dca9b5cd7945bc9b96e9b7adb20fc7",
       "version_major": 2,
       "version_minor": 0
      },
      "text/plain": [
       "Output()"
      ]
     },
     "metadata": {},
     "output_type": "display_data"
    }
   ],
   "source": [
    "display_discharge_dashboard(df)"
   ]
  },
  {
   "cell_type": "markdown",
   "id": "62c12f3e",
   "metadata": {},
   "source": [
    "#### Compare stations\n",
    "We can also plot direct comparisons of stations in our dataset by plotting data at each station in a grid of plots. In these comparison grids, the scatter plots display the observations at each station at a given time. For example, the temperature at MITC on the x-axis and the temperature at SASS on the y-axis. Stations with variables that are well-correlated will show points that are generally clustered along a line with very little spread, whereas stations with variables that are not well-correlated show considerable spread. \n",
    "\n",
    "<center><a href=\"https://elearning.unidata.ucar.edu/dataeLearning/Cybertraining/analysis/media/wellcorrelated.png\" target=\"blank\"><img src=\"https://elearning.unidata.ucar.edu/dataeLearning/Cybertraining/analysis/media/wellcorrelated.png\" width=\"200 px\"></a> <a href=\"https://elearning.unidata.ucar.edu/dataeLearning/Cybertraining/analysis/media/notwellcorrelated.png\" target=\"blank\"><img src=\"https://elearning.unidata.ucar.edu/dataeLearning/Cybertraining/analysis/media/notwellcorrelated.png\" width=\"200 px\"></a><br><i>Click to enlarge</i></center>\n",
    "\n",
    "The comparison plot grid displays histograms where the x- and y-axes are the same station. These are the same histograms that you plotted previously, displaying the distribution of all values at that station. \n",
    "\n",
    "> **Instructions**\n",
    "> \n",
    "> Execute the two cells below.\n",
    ">\n",
    "> In the Comparison Plot plotting widget, select an environmental variable from the dropdown, then select Plot to reveal the plot.\n",
    "> \n",
    "> Repeat for any and all variables you want to explore."
   ]
  },
  {
   "cell_type": "code",
   "execution_count": null,
   "id": "c922a5ef",
   "metadata": {},
   "outputs": [],
   "source": [
    "from analysis_tech import display_correlation_plot_dashboard"
   ]
  },
  {
   "cell_type": "code",
   "execution_count": null,
   "id": "63663049",
   "metadata": {},
   "outputs": [],
   "source": [
    "display_correlation_plot_dashboard()"
   ]
  },
  {
   "cell_type": "markdown",
   "id": "a49eb31c-c0cf-477d-a771-282d49442189",
   "metadata": {},
   "source": [
    "<div class=\"alert alert-success\" role=\"alert\">\n",
    "<p class=\"admonition-title\" style=\"font-weight:bold\">Exercise 2b</p>\n",
    "    <p>Open your <b>Machine Learning Model Handbook</b> to Exercise 2b. Then describe your exploratory data analysis of any target and input features of note. Include the following:\n",
    "    <ul>\n",
    "        <li>Do variables follow diurnal or annual patterns generally as expected?</li>\n",
    "        <li>Do the variables have the expected ranges of values? Do any variables appear to include major outliers?</li>\n",
    "        <li>Which stations appear to be most correlated to the variables at Mt Mitchell? Why?</li>\n",
    "        <li>Include any <i>important</i> plots to illustrate your conclusions. Limit yourself to 5 plots. <br><i>To copy a plot image, hold shift, right click on the image, then select Copy.</i></li>\n",
    "    </ul>\n",
    "    </p>\n",
    "</div>\n",
    "\n",
    "<br>"
   ]
  },
  {
   "cell_type": "markdown",
   "id": "2179f158-8f6b-45f3-ab00-aa889b092160",
   "metadata": {},
   "source": [
    "### Part 2c: Create a data splitting strategy\n",
    "\n",
    "Next we create a data splitting strategy. Data splitting refers to the process of dividing data into three groups: training, validation, and testing. Each of these groups represent a part of the iterative process for machine learning model development. \n",
    "\n",
    "- Training data is the largest subset, usually around 60-80% of the total data, and is used to initially train the model. \n",
    "- Validation data is roughly 10-20% of the total data, and is used to validate the effectiveness of the training process. \n",
    "- Testing data is also roughly 10-20% of the total data, and is used to test the final refined model before using it on new, unseen data.\n",
    "\n",
    "Each group should be separate to ensure no single group will bias the model. In this model, the data will be randomly split into these groups, but you decide the proportions of data for each group. Input your percentages in the blanks below, ensuring all percentages equal 100%.\n",
    "\n",
    "> **Instructions**\n",
    "> \n",
    "> Execute the two cells below.\n",
    ">\n",
    "> In the Dataset Split Percentages widget, select the proportions of the total dataset you wish to use in each group by typing in each box. Use values 0-100, ensuring that the sum of all three boxes equals 100.\n",
    ">\n",
    "> Select Submit after making your selection."
   ]
  },
  {
   "cell_type": "code",
   "execution_count": 20,
   "id": "0b32e550",
   "metadata": {},
   "outputs": [
    {
     "data": {
      "text/plain": [
       "array([2011, 2012, 2013, 2014, 2015, 2016, 2017, 2018, 2019, 2020, 2021,\n",
       "       2022, 2023], dtype=int32)"
      ]
     },
     "execution_count": 20,
     "metadata": {},
     "output_type": "execute_result"
    }
   ],
   "source": [
    "df.year.unique()"
   ]
  },
  {
   "cell_type": "code",
   "execution_count": 52,
   "id": "321df896",
   "metadata": {},
   "outputs": [],
   "source": [
    "def create_year_selection_widget(auto_display=True):\n",
    "    \"\"\"Creates widget for specifying training/validation/testing splits allowing multiple years per category.\n",
    "    \n",
    "    Returns:\n",
    "        widget_box: The widget interface\n",
    "        get_selection: A function that returns the current selection as integers\n",
    "    \"\"\"\n",
    "    # Predefined years\n",
    "    years = np.array([2011, 2012, 2013, 2014, 2015, 2016, 2017, 2018, 2019, 2020, 2021, 2022, 2023])\n",
    "    \n",
    "    # Convert years to list of strings for the checkboxes\n",
    "    year_options = [str(year) for year in years]\n",
    "    \n",
    "    # Create section headers with larger font\n",
    "    header_style = \"font-size: 16px; font-weight: bold; margin-bottom: 5px;\"\n",
    "    training_header = widgets.HTML(value=f\"<span style='{header_style}'>Training Years:</span>\")\n",
    "    validation_header = widgets.HTML(value=f\"<span style='{header_style}'>Validation Years:</span>\")\n",
    "    testing_header = widgets.HTML(value=f\"<span style='{header_style}'>Testing Years:</span>\")\n",
    "    \n",
    "    # Custom CSS for checkbox labels to increase font size and reduce spacing\n",
    "    checkbox_style = \"\"\"\n",
    "    <style>\n",
    "    .widget-checkbox {\n",
    "        margin-right: -10px !important;  /* Less aggressive spacing reduction */\n",
    "        width: auto !important;\n",
    "    }\n",
    "    .widget-checkbox > label {\n",
    "        font-size: 14px !important;  /* Increase font size by ~1 from default */\n",
    "        padding-right: 15px !important; /* More padding to the right for better readability */\n",
    "    }\n",
    "    /* Add some padding to the checkbox containers to prevent clipping */\n",
    "    .widget-hbox {\n",
    "        padding-right: 15px !important;\n",
    "    }\n",
    "    </style>\n",
    "    \"\"\"\n",
    "    style_widget = widgets.HTML(value=checkbox_style)\n",
    "    \n",
    "    # Create checkbox widgets for each year for each category\n",
    "    training_checkboxes = [widgets.Checkbox(value=False, description=str(year), indent=False) \n",
    "                          for year in years]\n",
    "    validation_checkboxes = [widgets.Checkbox(value=False, description=str(year), indent=False) \n",
    "                            for year in years]\n",
    "    testing_checkboxes = [widgets.Checkbox(value=False, description=str(year), indent=False) \n",
    "                         for year in years]\n",
    "    \n",
    "    # Create horizontal box layouts for each set of checkboxes with reduced spacing\n",
    "    box_layout = widgets.Layout(margin='0px 0px 0px 0px', padding='0px 0px 0px 0px')\n",
    "    training_box = widgets.HBox(training_checkboxes, layout=box_layout)\n",
    "    validation_box = widgets.HBox(validation_checkboxes, layout=box_layout)\n",
    "    testing_box = widgets.HBox(testing_checkboxes, layout=box_layout)\n",
    "    \n",
    "    submit_button = widgets.Button(\n",
    "        description=\"Submit\",\n",
    "        button_style='primary',\n",
    "        layout=widgets.Layout(width='150px', margin='10px 0px 10px 0px')\n",
    "    )\n",
    "    \n",
    "    warning_output = widgets.HTML(value=\"\")\n",
    "    selection_display = widgets.HTML(value=\"\", layout=widgets.Layout(margin='10px 0px 10px 0px'))\n",
    "    result_output = widgets.Output()\n",
    "    \n",
    "    # Store the selection state\n",
    "    selection_state = {'submitted': False, 'values': None}\n",
    "    \n",
    "    # Function to get selected years for each category\n",
    "    def get_selected_years():\n",
    "        training_years = [int(cb.description) for cb in training_checkboxes if cb.value]\n",
    "        validation_years = [int(cb.description) for cb in validation_checkboxes if cb.value]\n",
    "        testing_years = [int(cb.description) for cb in testing_checkboxes if cb.value]\n",
    "        \n",
    "        return {\n",
    "            'training': training_years,\n",
    "            'validation': validation_years,\n",
    "            'testing': testing_years\n",
    "        }\n",
    "    \n",
    "    # Function to check for overlaps and missing selections\n",
    "    def check_selections():\n",
    "        selected = get_selected_years()\n",
    "        \n",
    "        # Check if any selections are made\n",
    "        has_training = len(selected['training']) > 0\n",
    "        has_validation = len(selected['validation']) > 0\n",
    "        has_testing = len(selected['testing']) > 0\n",
    "        \n",
    "        missing = []\n",
    "        if not has_training:\n",
    "            missing.append(\"Training\")\n",
    "        if not has_validation:\n",
    "            missing.append(\"Validation\")\n",
    "        if not has_testing:\n",
    "            missing.append(\"Testing\")\n",
    "        \n",
    "        # Check for overlaps\n",
    "        training_set = set(selected['training'])\n",
    "        validation_set = set(selected['validation'])\n",
    "        testing_set = set(selected['testing'])\n",
    "        \n",
    "        overlaps = []\n",
    "        \n",
    "        train_val_overlap = training_set.intersection(validation_set)\n",
    "        if train_val_overlap:\n",
    "            overlaps.append(f\"Training and Validation overlap on years: {', '.join(map(str, train_val_overlap))}\")\n",
    "            \n",
    "        train_test_overlap = training_set.intersection(testing_set)\n",
    "        if train_test_overlap:\n",
    "            overlaps.append(f\"Training and Testing overlap on years: {', '.join(map(str, train_test_overlap))}\")\n",
    "            \n",
    "        val_test_overlap = validation_set.intersection(testing_set)\n",
    "        if val_test_overlap:\n",
    "            overlaps.append(f\"Validation and Testing overlap on years: {', '.join(map(str, val_test_overlap))}\")\n",
    "        \n",
    "        # Generate warning messages\n",
    "        warning_html = \"\"\n",
    "        if missing:\n",
    "            warning_html += f\"<span style='color:orange; font-size:14px;'>⚠️ Please select at least one year for: {', '.join(missing)}</span><br>\"\n",
    "            \n",
    "        if overlaps:\n",
    "            warning_html += \"<span style='color:red; font-size:14px;'>⚠️ Years cannot be used in multiple categories:</span><br>\"\n",
    "            for overlap in overlaps:\n",
    "                warning_html += f\"<span style='color:red; font-size:14px;'>- {overlap}</span><br>\"\n",
    "            \n",
    "        # Update the warning display\n",
    "        warning_output.value = warning_html\n",
    "        \n",
    "        return len(missing) == 0 and len(overlaps) == 0\n",
    "    \n",
    "    # Function to update the selection display\n",
    "    def update_display(change=None):\n",
    "        selected = get_selected_years()\n",
    "        \n",
    "        # Format the display content with larger font\n",
    "        display_html = \"<div style='font-size:15px;'>\"\n",
    "        display_html += \"<b>Current Selection:</b><br>\"\n",
    "        display_html += f\"<b>Training:</b> {', '.join(map(str, selected['training'])) if selected['training'] else 'None'}<br>\"\n",
    "        display_html += f\"<b>Validation:</b> {', '.join(map(str, selected['validation'])) if selected['validation'] else 'None'}<br>\"\n",
    "        display_html += f\"<b>Testing:</b> {', '.join(map(str, selected['testing'])) if selected['testing'] else 'None'}\"\n",
    "        display_html += \"</div>\"\n",
    "        \n",
    "        # Update the selection display\n",
    "        selection_display.value = display_html\n",
    "        \n",
    "        # Check for warnings\n",
    "        check_selections()\n",
    "    \n",
    "    # Register observers for all checkboxes\n",
    "    for cb in training_checkboxes + validation_checkboxes + testing_checkboxes:\n",
    "        cb.observe(update_display, names='value')\n",
    "    \n",
    "    def on_submit_clicked(b):\n",
    "        valid = check_selections()\n",
    "        selected = get_selected_years()\n",
    "        \n",
    "        with result_output:\n",
    "            result_output.clear_output()\n",
    "            if valid:\n",
    "                # Store the selection\n",
    "                selection_state['submitted'] = True\n",
    "                selection_state['values'] = selected\n",
    "                \n",
    "                print(f\"✓ Submitted successfully!\")\n",
    "                print(f\"- Training years: {', '.join(map(str, selected['training']))}\")\n",
    "                print(f\"- Validation years: {', '.join(map(str, selected['validation']))}\")\n",
    "                print(f\"- Testing years: {', '.join(map(str, selected['testing']))}\")\n",
    "            else:\n",
    "                selection_state['submitted'] = False\n",
    "                selection_state['values'] = None\n",
    "                print(\"⚠️ Please fix the errors before submitting.\")\n",
    "    \n",
    "    submit_button.on_click(on_submit_clicked)\n",
    "    \n",
    "    # Function to get the current selection\n",
    "    def get_selection():\n",
    "        if selection_state['submitted']:\n",
    "            return selection_state['values']\n",
    "        else:\n",
    "            return None\n",
    "    \n",
    "    # Create layout\n",
    "    widget_box = widgets.VBox([\n",
    "        style_widget,\n",
    "        training_header, training_box,\n",
    "        validation_header, validation_box,\n",
    "        testing_header, testing_box,\n",
    "        selection_display,\n",
    "        warning_output,\n",
    "        submit_button, \n",
    "        result_output\n",
    "    ])\n",
    "    \n",
    "    # Initial display update\n",
    "    update_display()\n",
    "    \n",
    "    if auto_display:\n",
    "        display(widget_box)\n",
    "        \n",
    "    return widget_box, get_selection"
   ]
  },
  {
   "cell_type": "code",
   "execution_count": 53,
   "id": "1d0d113b",
   "metadata": {},
   "outputs": [
    {
     "data": {
      "application/vnd.jupyter.widget-view+json": {
       "model_id": "72a5475e789149f3b82ffd296da0e9a4",
       "version_major": 2,
       "version_minor": 0
      },
      "text/plain": [
       "VBox(children=(HTML(value='\\n    <style>\\n    .widget-checkbox {\\n        margin-right: -10px !important;  /* …"
      ]
     },
     "metadata": {},
     "output_type": "display_data"
    }
   ],
   "source": [
    "widget, get_years = create_year_selection_widget()"
   ]
  },
  {
   "cell_type": "markdown",
   "id": "e7aa6420-48c4-44d5-a6a2-3a9fa6c32db8",
   "metadata": {},
   "source": [
    "> **Instructions**\n",
    "> \n",
    "> Execute the three cells below to execute the functions to split the data according to the percentages you submitted above.\n",
    ">\n",
    "> *Note: The \"true test\" group is the subset of times where MITC was offline, Sept 27, 2024 and onward.*"
   ]
  },
  {
   "cell_type": "code",
   "execution_count": 56,
   "id": "05d1273d",
   "metadata": {},
   "outputs": [],
   "source": [
    "# This is used to grab the values from the widget above (no need to change)\n",
    "years = get_years()\n",
    "training = years['training']\n",
    "validation = years['validation']\n",
    "testing = years['testing']"
   ]
  },
  {
   "cell_type": "code",
   "execution_count": 57,
   "id": "2b61e6c4",
   "metadata": {},
   "outputs": [
    {
     "data": {
      "text/plain": [
       "[2020, 2021]"
      ]
     },
     "execution_count": 57,
     "metadata": {},
     "output_type": "execute_result"
    }
   ],
   "source": [
    "validation"
   ]
  },
  {
   "cell_type": "code",
   "execution_count": 58,
   "id": "1a6a8e62",
   "metadata": {},
   "outputs": [
    {
     "data": {
      "text/html": [
       "<div>\n",
       "<style scoped>\n",
       "    .dataframe tbody tr th:only-of-type {\n",
       "        vertical-align: middle;\n",
       "    }\n",
       "\n",
       "    .dataframe tbody tr th {\n",
       "        vertical-align: top;\n",
       "    }\n",
       "\n",
       "    .dataframe thead th {\n",
       "        text-align: right;\n",
       "    }\n",
       "</style>\n",
       "<table border=\"1\" class=\"dataframe\">\n",
       "  <thead>\n",
       "    <tr style=\"text-align: right;\">\n",
       "      <th></th>\n",
       "      <th>year</th>\n",
       "      <th>day_of_year</th>\n",
       "      <th>hour_of_day</th>\n",
       "      <th>hourly_precip_mean_inch_0CO</th>\n",
       "      <th>hourly_precip_sum_inch_0CO</th>\n",
       "      <th>daily_mean_discharge_LEAV_GTOWN</th>\n",
       "      <th>daily_mean_discharge_WF_EMPIRE</th>\n",
       "      <th>daily_mean_discharge_MAIN_LAWSN</th>\n",
       "      <th>daily_mean_discharge_N_BLKHAWK</th>\n",
       "      <th>daily_mean_discharge_DT_GOLDEN</th>\n",
       "    </tr>\n",
       "  </thead>\n",
       "  <tbody>\n",
       "    <tr>\n",
       "      <th>0</th>\n",
       "      <td>2011</td>\n",
       "      <td>4</td>\n",
       "      <td>7</td>\n",
       "      <td>0.0</td>\n",
       "      <td>0.0</td>\n",
       "      <td>24.7</td>\n",
       "      <td>10.500000</td>\n",
       "      <td>27.25</td>\n",
       "      <td>2.440000</td>\n",
       "      <td>59.500000</td>\n",
       "    </tr>\n",
       "    <tr>\n",
       "      <th>1</th>\n",
       "      <td>2011</td>\n",
       "      <td>4</td>\n",
       "      <td>8</td>\n",
       "      <td>0.0</td>\n",
       "      <td>0.0</td>\n",
       "      <td>24.7</td>\n",
       "      <td>5.660000</td>\n",
       "      <td>26.25</td>\n",
       "      <td>2.120000</td>\n",
       "      <td>57.300000</td>\n",
       "    </tr>\n",
       "    <tr>\n",
       "      <th>2</th>\n",
       "      <td>2011</td>\n",
       "      <td>4</td>\n",
       "      <td>9</td>\n",
       "      <td>0.0</td>\n",
       "      <td>0.0</td>\n",
       "      <td>24.7</td>\n",
       "      <td>10.500000</td>\n",
       "      <td>27.20</td>\n",
       "      <td>2.620000</td>\n",
       "      <td>57.850000</td>\n",
       "    </tr>\n",
       "    <tr>\n",
       "      <th>3</th>\n",
       "      <td>2011</td>\n",
       "      <td>4</td>\n",
       "      <td>10</td>\n",
       "      <td>0.0</td>\n",
       "      <td>0.0</td>\n",
       "      <td>24.7</td>\n",
       "      <td>10.800000</td>\n",
       "      <td>26.90</td>\n",
       "      <td>2.120000</td>\n",
       "      <td>55.166667</td>\n",
       "    </tr>\n",
       "    <tr>\n",
       "      <th>4</th>\n",
       "      <td>2011</td>\n",
       "      <td>4</td>\n",
       "      <td>11</td>\n",
       "      <td>0.0</td>\n",
       "      <td>0.0</td>\n",
       "      <td>24.7</td>\n",
       "      <td>10.500000</td>\n",
       "      <td>30.70</td>\n",
       "      <td>2.705000</td>\n",
       "      <td>51.433333</td>\n",
       "    </tr>\n",
       "    <tr>\n",
       "      <th>...</th>\n",
       "      <td>...</td>\n",
       "      <td>...</td>\n",
       "      <td>...</td>\n",
       "      <td>...</td>\n",
       "      <td>...</td>\n",
       "      <td>...</td>\n",
       "      <td>...</td>\n",
       "      <td>...</td>\n",
       "      <td>...</td>\n",
       "      <td>...</td>\n",
       "    </tr>\n",
       "    <tr>\n",
       "      <th>108880</th>\n",
       "      <td>2023</td>\n",
       "      <td>365</td>\n",
       "      <td>2</td>\n",
       "      <td>0.0</td>\n",
       "      <td>0.0</td>\n",
       "      <td>24.7</td>\n",
       "      <td>11.500000</td>\n",
       "      <td>27.80</td>\n",
       "      <td>2.750000</td>\n",
       "      <td>46.700000</td>\n",
       "    </tr>\n",
       "    <tr>\n",
       "      <th>108881</th>\n",
       "      <td>2023</td>\n",
       "      <td>365</td>\n",
       "      <td>3</td>\n",
       "      <td>0.0</td>\n",
       "      <td>0.0</td>\n",
       "      <td>24.7</td>\n",
       "      <td>11.000000</td>\n",
       "      <td>27.30</td>\n",
       "      <td>2.830000</td>\n",
       "      <td>48.050000</td>\n",
       "    </tr>\n",
       "    <tr>\n",
       "      <th>108882</th>\n",
       "      <td>2023</td>\n",
       "      <td>365</td>\n",
       "      <td>4</td>\n",
       "      <td>0.0</td>\n",
       "      <td>0.0</td>\n",
       "      <td>24.7</td>\n",
       "      <td>11.166667</td>\n",
       "      <td>26.95</td>\n",
       "      <td>2.910000</td>\n",
       "      <td>48.500000</td>\n",
       "    </tr>\n",
       "    <tr>\n",
       "      <th>108883</th>\n",
       "      <td>2023</td>\n",
       "      <td>365</td>\n",
       "      <td>5</td>\n",
       "      <td>0.0</td>\n",
       "      <td>0.0</td>\n",
       "      <td>24.7</td>\n",
       "      <td>11.166667</td>\n",
       "      <td>26.55</td>\n",
       "      <td>2.913333</td>\n",
       "      <td>47.600000</td>\n",
       "    </tr>\n",
       "    <tr>\n",
       "      <th>108884</th>\n",
       "      <td>2023</td>\n",
       "      <td>365</td>\n",
       "      <td>6</td>\n",
       "      <td>0.0</td>\n",
       "      <td>0.0</td>\n",
       "      <td>24.7</td>\n",
       "      <td>11.350000</td>\n",
       "      <td>25.85</td>\n",
       "      <td>2.750000</td>\n",
       "      <td>46.700000</td>\n",
       "    </tr>\n",
       "  </tbody>\n",
       "</table>\n",
       "<p>108885 rows × 10 columns</p>\n",
       "</div>"
      ],
      "text/plain": [
       "        year  day_of_year  hour_of_day  hourly_precip_mean_inch_0CO  \\\n",
       "0       2011            4            7                          0.0   \n",
       "1       2011            4            8                          0.0   \n",
       "2       2011            4            9                          0.0   \n",
       "3       2011            4           10                          0.0   \n",
       "4       2011            4           11                          0.0   \n",
       "...      ...          ...          ...                          ...   \n",
       "108880  2023          365            2                          0.0   \n",
       "108881  2023          365            3                          0.0   \n",
       "108882  2023          365            4                          0.0   \n",
       "108883  2023          365            5                          0.0   \n",
       "108884  2023          365            6                          0.0   \n",
       "\n",
       "        hourly_precip_sum_inch_0CO  daily_mean_discharge_LEAV_GTOWN  \\\n",
       "0                              0.0                             24.7   \n",
       "1                              0.0                             24.7   \n",
       "2                              0.0                             24.7   \n",
       "3                              0.0                             24.7   \n",
       "4                              0.0                             24.7   \n",
       "...                            ...                              ...   \n",
       "108880                         0.0                             24.7   \n",
       "108881                         0.0                             24.7   \n",
       "108882                         0.0                             24.7   \n",
       "108883                         0.0                             24.7   \n",
       "108884                         0.0                             24.7   \n",
       "\n",
       "        daily_mean_discharge_WF_EMPIRE  daily_mean_discharge_MAIN_LAWSN  \\\n",
       "0                            10.500000                            27.25   \n",
       "1                             5.660000                            26.25   \n",
       "2                            10.500000                            27.20   \n",
       "3                            10.800000                            26.90   \n",
       "4                            10.500000                            30.70   \n",
       "...                                ...                              ...   \n",
       "108880                       11.500000                            27.80   \n",
       "108881                       11.000000                            27.30   \n",
       "108882                       11.166667                            26.95   \n",
       "108883                       11.166667                            26.55   \n",
       "108884                       11.350000                            25.85   \n",
       "\n",
       "        daily_mean_discharge_N_BLKHAWK  daily_mean_discharge_DT_GOLDEN  \n",
       "0                             2.440000                       59.500000  \n",
       "1                             2.120000                       57.300000  \n",
       "2                             2.620000                       57.850000  \n",
       "3                             2.120000                       55.166667  \n",
       "4                             2.705000                       51.433333  \n",
       "...                                ...                             ...  \n",
       "108880                        2.750000                       46.700000  \n",
       "108881                        2.830000                       48.050000  \n",
       "108882                        2.910000                       48.500000  \n",
       "108883                        2.913333                       47.600000  \n",
       "108884                        2.750000                       46.700000  \n",
       "\n",
       "[108885 rows x 10 columns]"
      ]
     },
     "execution_count": 58,
     "metadata": {},
     "output_type": "execute_result"
    }
   ],
   "source": [
    "df"
   ]
  },
  {
   "cell_type": "code",
   "execution_count": 59,
   "id": "43e9dbfc",
   "metadata": {},
   "outputs": [],
   "source": [
    "def split_data_temporal(df, train_years, val_years, test_years, target_column, year_column='year'):\n",
    "    \"\"\"\n",
    "    Split data temporally based on specified years for time series forecasting.\n",
    "    \n",
    "    Parameters:\n",
    "    -----------\n",
    "    df : pandas DataFrame\n",
    "        The dataframe containing your data with a year column\n",
    "    train_years : list\n",
    "        List of years to use for training (e.g., [2015, 2016, 2017, 2018, 2019])\n",
    "    val_years : list\n",
    "        List of years to use for validation (e.g., [2020, 2021])\n",
    "    test_years : list\n",
    "        List of years to use for testing\n",
    "    target_column : str\n",
    "        The name of the target variable column\n",
    "    year_column : str, default 'year'\n",
    "        The name of the column containing the year information\n",
    "        \n",
    "    Returns:\n",
    "    --------\n",
    "    X_train, y_train, X_val, y_val, X_test, y_test, X_true_test, y_true_test\n",
    "    \"\"\"\n",
    "    # Verify that the years exist in the dataset\n",
    "    available_years = set(df[year_column].unique())\n",
    "    for year in train_years + val_years + test_years:\n",
    "        if year not in available_years:\n",
    "            print(f\"Warning: Year {year} not found in dataset\")\n",
    "    \n",
    "    # Create masks for each set\n",
    "    train_mask = df[year_column].isin(train_years)\n",
    "    val_mask = df[year_column].isin(val_years)\n",
    "    \n",
    "    # Split test years in half for regular test and true test\n",
    "    if len(test_years) > 1:\n",
    "        split_idx = len(test_years) // 2\n",
    "        regular_test_years = test_years[:split_idx]\n",
    "        true_test_years = test_years[split_idx:]\n",
    "    else:\n",
    "        regular_test_years = test_years\n",
    "        true_test_years = test_years  # Same as regular test in this case\n",
    "    \n",
    "    test_mask = df[year_column].isin(regular_test_years)\n",
    "    true_test_mask = df[year_column].isin(true_test_years)\n",
    "    \n",
    "    # Get feature columns (all columns except target)\n",
    "    X_columns = [col for col in df.columns if col != target_column]\n",
    "    \n",
    "    # Create the splits\n",
    "    X_train = df.loc[train_mask, X_columns]\n",
    "    y_train = df.loc[train_mask, target_column]\n",
    "    \n",
    "    X_val = df.loc[val_mask, X_columns]\n",
    "    y_val = df.loc[val_mask, target_column]\n",
    "    \n",
    "    X_test = df.loc[test_mask, X_columns]\n",
    "    y_test = df.loc[test_mask, target_column]\n",
    "    \n",
    "    X_true_test = df.loc[true_test_mask, X_columns]\n",
    "    y_true_test = df.loc[true_test_mask, target_column]\n",
    "    \n",
    "    return X_train, y_train, X_val, y_val, X_test, y_test, X_true_test, y_true_test"
   ]
  },
  {
   "cell_type": "code",
   "execution_count": 61,
   "id": "4547defa",
   "metadata": {},
   "outputs": [],
   "source": [
    "# Use the function\n",
    "X_train, y_train, X_val, y_val, X_test, y_test, X_true_test, y_true_test = split_data_temporal(df,\n",
    "                                                                                               train_years=training,\n",
    "                                                                                               val_years=validation,\n",
    "                                                                                               test_years=testing,\n",
    "                                                                                               target_column='daily_mean_discharge_DT_GOLDEN')"
   ]
  },
  {
   "cell_type": "markdown",
   "id": "f9510216-b184-4de8-96a6-965f2a5042f1",
   "metadata": {},
   "source": [
    "<br>\n",
    "<div class=\"alert alert-success\" role=\"alert\">\n",
    "<p class=\"admonition-title\" style=\"font-weight:bold\">Exercise 2c</p>\n",
    "    <ul>\n",
    "        <li><b>In your Machine Learning Model Handbook Exercise 2c,</b> input your data splitting strategy. </li>\n",
    "    </ul>\n",
    "</div>\n",
    "<br>"
   ]
  },
  {
   "cell_type": "markdown",
   "id": "055833d1-35ab-4553-935a-766209357f72",
   "metadata": {},
   "source": [
    "***"
   ]
  },
  {
   "attachments": {},
   "cell_type": "markdown",
   "id": "b94e17c2-14c8-400e-9882-1016a33d888c",
   "metadata": {},
   "source": [
    "## Part 3: Model Development\n",
    "Next begins the iterative process of creating, evaluating, and refining your machine learning model. You will start with an initial model, and keep track of your subsequent trials in your Machine Learning Model Handbook. \n",
    "<center><a href=\"https://elearning.unidata.ucar.edu/dataeLearning/Cybertraining/analysis/media/RevisedFull_NOPROCESS_.png\" target=\"blank\"><img src=\"https://elearning.unidata.ucar.edu/dataeLearning/Cybertraining/analysis/media/RevisedFull_NOPROCESS_.png\"></a><br><i>Click to enlarge</i></center>"
   ]
  },
  {
   "attachments": {},
   "cell_type": "markdown",
   "id": "fc10b05e-e441-4af5-b7b5-e925294cf261",
   "metadata": {},
   "source": [
    "### Part 3a: Choose Algorithm\n",
    "First, you will choose an algorithm to train. You have two options: the *MultiXGBRegressor* and the *MultiLinearRegressor*. Both have pros and cons for this task. Choose one for your initial model, but you may choose to test the other algorithm in subsequent trials. \n",
    "\n",
    "<div class=\"alert alert-info\" role=\"alert\">\n",
    "    <p class=\"admonition-title\" style=\"font-weight:bold\">About the Algorithms</p>\n",
    "    <p class=\"admonition-title\" style=\"font-weight:bold\">MultiXGBRegressor (XGBoost)</p>\n",
    "    <ul>\n",
    "        <li>Handles a Wide Range of Data Distributions: XGBoost is capable of modeling both linear and non-linear relationships, making it suitable for data with complex, varied distributions.</li>\n",
    "        <li>Prone to Overfitting: XGBoost can easily overfit to training data, especially when the dataset is small or noisy. This may lead to poor generalizations when making predictions on new data. </li>\n",
    "    </ul>\n",
    "    <p class=\"admonition-title\" style=\"font-weight:bold\">MultiLinearRegressor</p>\n",
    "    <ul>\n",
    "        <li>Simple and Interpretable: As a linear model, it is easy to understand and interpret within the context of the physical world, making it a great choice for finding clear relationships between features and predictions.</li>\n",
    "        <li>Struggles with Non-Uniform Data Distributions: For datasets with non-linear patterns or skewed distributions, multiple linear regression may fail to capture the underlying patterns, leading to biased or inaccurate predictions.</li>\n",
    "</div>\n",
    "\n",
    "> **Instructions**\n",
    "> \n",
    "> Execute the two cells below.\n",
    ">\n",
    "> After executing `algorithm_selection()`, select the corresponding button to select your desired algorithm."
   ]
  },
  {
   "cell_type": "code",
   "execution_count": 62,
   "id": "b14e8307",
   "metadata": {},
   "outputs": [],
   "source": [
    "# imports needed to run the machine learning workflow\n",
    "\n",
    "from xgboost import XGBRegressor\n",
    "import time \n",
    "from sklearn.linear_model import LinearRegression\n",
    "from sklearn.multioutput import MultiOutputRegressor\n",
    "from analysis_tech import algorithm_selection"
   ]
  },
  {
   "cell_type": "code",
   "execution_count": 63,
   "id": "095e21a2",
   "metadata": {},
   "outputs": [
    {
     "data": {
      "application/vnd.jupyter.widget-view+json": {
       "model_id": "3efb6ae366524adc9f612cf70854dc89",
       "version_major": 2,
       "version_minor": 0
      },
      "text/plain": [
       "HBox(children=(Button(description='Multi-Linear Regressor', layout=Layout(height='200px', margin='10px', width…"
      ]
     },
     "metadata": {},
     "output_type": "display_data"
    },
    {
     "data": {
      "application/vnd.jupyter.widget-view+json": {
       "model_id": "227e358c5af24f06a89cd338347624dc",
       "version_major": 2,
       "version_minor": 0
      },
      "text/plain": [
       "Output()"
      ]
     },
     "metadata": {},
     "output_type": "display_data"
    }
   ],
   "source": [
    "selected_algo = algorithm_selection()"
   ]
  },
  {
   "attachments": {},
   "cell_type": "markdown",
   "id": "18b99dcf-1fa1-4e03-b826-492e5b71fb91",
   "metadata": {},
   "source": [
    "<br>\n",
    "\n",
    "### Part 3b: Choose input features\n",
    "\n",
    "Given your data exploration, you must now choose the stations to use as input features to the algorithm you just selected. You may choose as many input stations as you'd like, however, recall that more stations does not always create a better model. Think strategically based on the evidence. \n",
    "\n",
    "<center><a href=\"https://ncar.maps.arcgis.com/apps/instant/3dviewer/index.html?appid=50f8315bfb4742ce9468e25eaf53c12e\" target=\"blank\"><img src=\"https://elearning.unidata.ucar.edu/dataeLearning/Cybertraining/analysis/media/stationmap_pro.png\" width=\"500 px\"></a><br>\n",
    "<i>Click to open interactive map</i></center><br>\n",
    "\n",
    "> **Instructions**\n",
    "> \n",
    "> Execute the two cells below.\n",
    ">\n",
    "> After executing `create_station_selector()`, select the stations you would like to use to train your model. You may select as many or as few as you consider necessary."
   ]
  },
  {
   "cell_type": "code",
   "execution_count": 66,
   "id": "21b9e891",
   "metadata": {},
   "outputs": [
    {
     "data": {
      "text/plain": [
       "Index(['year', 'day_of_year', 'hour_of_day', 'hourly_precip_mean_inch_0CO',\n",
       "       'hourly_precip_sum_inch_0CO', 'daily_mean_discharge_LEAV_GTOWN',\n",
       "       'daily_mean_discharge_WF_EMPIRE', 'daily_mean_discharge_MAIN_LAWSN',\n",
       "       'daily_mean_discharge_N_BLKHAWK', 'daily_mean_discharge_DT_GOLDEN'],\n",
       "      dtype='object')"
      ]
     },
     "execution_count": 66,
     "metadata": {},
     "output_type": "execute_result"
    }
   ],
   "source": [
    "df.columns"
   ]
  },
  {
   "cell_type": "code",
   "execution_count": 64,
   "id": "c9edb193",
   "metadata": {},
   "outputs": [],
   "source": [
    "from analysis_tech import create_station_selector"
   ]
  },
  {
   "cell_type": "code",
   "execution_count": 65,
   "id": "0de3be7e",
   "metadata": {},
   "outputs": [
    {
     "data": {
      "application/vnd.jupyter.widget-view+json": {
       "model_id": "232b7c5e30324fcc9b8682f31c9802ac",
       "version_major": 2,
       "version_minor": 0
      },
      "text/plain": [
       "VBox(children=(HTML(value='<h3>Select Weather Stations</h3>'), GridBox(children=(Checkbox(value=False, descrip…"
      ]
     },
     "metadata": {},
     "output_type": "display_data"
    }
   ],
   "source": [
    "station_selector = create_station_selector()"
   ]
  },
  {
   "cell_type": "markdown",
   "id": "0a7c1f45-54ea-4600-8563-f9d2e429bd6e",
   "metadata": {},
   "source": [
    "> **Instructions**\n",
    "> \n",
    "> Execute the cell below to commit your station selection. The output will also be used in describing subsequent evaluation metrics. "
   ]
  },
  {
   "cell_type": "code",
   "execution_count": null,
   "id": "da0c9b78",
   "metadata": {},
   "outputs": [],
   "source": [
    "# To get selected stations at any time:\n",
    "def get_selected_stations(selector):\n",
    "    return [station for station, checkbox in selector.items() if checkbox.value]\n",
    "\n",
    "selected = get_selected_stations(station_selector)\n",
    "selected"
   ]
  },
  {
   "cell_type": "markdown",
   "id": "c68eeb52",
   "metadata": {},
   "source": [
    "This next block of code takes the full dataset and removes (filters) any stations that were not selected above. We do this for all groups (training, validation, and testing). \n",
    "\n",
    "The \"true test\" group is the subset of times where MITC was offline, Sept 27, 2024 and onward.\n",
    "\n",
    "<br>\n",
    "\n",
    "> **Instructions**\n",
    "> \n",
    "> Execute the two cells below. In the printout display, you will see the number of features (columns) in the original dataset, and the number of features in the filtered dataset. "
   ]
  },
  {
   "cell_type": "code",
   "execution_count": null,
   "id": "2de1e99c",
   "metadata": {},
   "outputs": [],
   "source": [
    "from analysis_tech import filter_dataframe"
   ]
  },
  {
   "cell_type": "code",
   "execution_count": null,
   "id": "9b094c29",
   "metadata": {},
   "outputs": [],
   "source": [
    "X_train_filtered     = filter_dataframe(X_train,     selected)\n",
    "X_val_filtered       = filter_dataframe(X_val,       selected)\n",
    "X_test_filtered      = filter_dataframe(X_test,      selected)\n",
    "X_true_test_filtered = filter_dataframe(X_true_test, selected)"
   ]
  },
  {
   "cell_type": "markdown",
   "id": "f1fbcd3e-bd91-4b20-9bb4-d354926e5472",
   "metadata": {},
   "source": [
    "<br>\n",
    "\n",
    "### Part 3c: Train the Algorithm\n",
    "\n",
    "The training process is what transforms the machine learning algorithm into a supervised machine learning model. The cells below start the training process with all the decisions you previously made. \n",
    "\n",
    "> **Instructions**\n",
    "> \n",
    "> Execute the two cells below.\n",
    ">\n",
    "> After executing `train_button()`, select the Train Algorithm button to initiate the training process. A progress printout will display below the button while the process runs. "
   ]
  },
  {
   "cell_type": "code",
   "execution_count": null,
   "id": "a388a0b9",
   "metadata": {},
   "outputs": [],
   "source": [
    "from analysis_tech import train_button"
   ]
  },
  {
   "cell_type": "code",
   "execution_count": null,
   "id": "4b9e11f5",
   "metadata": {},
   "outputs": [],
   "source": [
    "model_choice = selected_algo()\n",
    "trained_model = train_button(model_choice, X_train_filtered, y_train)"
   ]
  },
  {
   "cell_type": "markdown",
   "id": "f61c36ec-46d9-4d79-ade1-55bf639cabae",
   "metadata": {},
   "source": [
    "<br>\n",
    "\n",
    "### Part 3d: Validate the Model\n",
    "\n",
    "The validation step uses validation data to evaluate how well the training process performed. By using a separate dataset to evaluate performance, we get a better sense of how well the model can generalize to new inputs. We focus on two main evaluation metrics: Root Mean Square Error (RMSE) and R². \n",
    "\n",
    "<div class=\"alert alert-info\" role=\"alert\">\n",
    "    <p class=\"admonition-title\" style=\"font-weight:bold\">About the Evaluation Metrics</p>\n",
    "    <p class=\"admonition-title\" style=\"font-weight:bold\">Root Mean Square Error (RMSE)</p>\n",
    "    <ul>\n",
    "        <li>A measure of how large a typical prediction error is</li>\n",
    "        <li>Reports the typical magnitude of error in the original units (degrees, %, mph, etc)</li>\n",
    "        <li>The closer to 0, the better the model accuracy</li>\n",
    "        <li>Better reflects the accuracy of predictions in real-world situations</li>\n",
    "        <li>Dependent on the range of values (scale) of the dataset, making comparisons among variables more difficult</li>\n",
    "    </ul>\n",
    "    <p class=\"admonition-title\" style=\"font-weight:bold\">R²</p>\n",
    "    <ul>\n",
    "        <li>A measure of how well the model explains the variation in the dataset</li>\n",
    "        <li>Uses a standardized scale (0-1) for comparing models across different trials</li>\n",
    "            <ul>\n",
    "                <li>In some cases, R² may be negative. This means that the model made a prediction worse than the dataset average (or climatology prediction).</li>\n",
    "            </ul>\n",
    "        <li>The closer to 1, the better the model accuracy</li>\n",
    "        <li>Assumes that the input data have a linear relationship</li>\n",
    "        <li>Only measures correlation among input data, cannot distinguish good and bad predictions in the real world</li>\n",
    "    </ul>\n",
    "</div>\n",
    "\n",
    "\n",
    "> **Instructions**\n",
    "> \n",
    "> Execute the two cells below.\n",
    ">\n",
    "> After executing `model_eval_MITC()`, your model's validation metrics will appear below as a printout. "
   ]
  },
  {
   "cell_type": "code",
   "execution_count": null,
   "id": "66842084",
   "metadata": {},
   "outputs": [],
   "source": [
    "# Import the Python libraries that calculate the evaluation metrics\n",
    "import numpy as np\n",
    "from sklearn.metrics import root_mean_squared_error, r2_score\n",
    "\n",
    "from analysis_tech import model_eval_MITC "
   ]
  },
  {
   "cell_type": "code",
   "execution_count": null,
   "id": "bf0ff68e",
   "metadata": {},
   "outputs": [],
   "source": [
    "model_eval_MITC(trained_model(), X_test_filtered, y_test)"
   ]
  },
  {
   "cell_type": "markdown",
   "id": "64f3e964-4f0a-44d5-baa1-65b9c9a4d169",
   "metadata": {},
   "source": [
    "<br>\n",
    "\n",
    "### Part 3e: Evaluate and Refine the Model\n",
    "\n",
    "Examine the results of the model validation. What do each mean? Could they be improved? Review the descriptions of the evaluation metrics, then complete the next exercise. \n",
    "\n",
    "<div class=\"alert alert-success\" role=\"alert\">\n",
    "<p class=\"admonition-title\" style=\"font-weight:bold\">Exercise 3e</p>\n",
    "    <p>Open your <b>Machine Learning Model Handbook</b> to Exercise 3e. </p>\n",
    "    <p>Paste your validation evaluation metrics in the designated box. </p>\n",
    "    <p>Then describe the results of your initial model validation. Include the following:</p>\n",
    "    <ul>\n",
    "        <li>Which variables have favorable evaluation metrics? Which variables don’t perform as well?</li>\n",
    "        <li>How do you interpret these statistics in the context of the physical world?</li>\n",
    "        <li>What changes will you make to try to improve these statistics in the next iteration?</li>\n",
    "    </ul>\n",
    "</div>"
   ]
  },
  {
   "cell_type": "markdown",
   "id": "3a4c6653-d035-4415-b953-962328ce1e73",
   "metadata": {},
   "source": [
    "<br>\n",
    "\n",
    "### Part 3f: Iterative Refinement Trials\n",
    "\n",
    "Your first trial is complete! Now you'll create new trials to improve the evaluation metrics from the validation phase. You may complete as many trials as you like until you are satisfied with the evaluation metrics, or they no longer improve with new trials. \n",
    "\n",
    "> **Instructions**\n",
    "> \n",
    "> Execute the code cells below, selecting your desired model configurations after executing each cell.\n",
    "> \n",
    "> After each new trial, you will copy the validation metrics in your handbook document. See **Exercise 3f**.\n",
    ">\n",
    "> You may complete as many trials in this section (3f) as you like until you are satisfied with the evaluation metrics, or they no longer improve with new trials. \n"
   ]
  },
  {
   "cell_type": "markdown",
   "id": "7b9c160b-404d-4447-acdd-eb4d93027bfd",
   "metadata": {},
   "source": [
    "#### New trial: Choose algorithm "
   ]
  },
  {
   "cell_type": "code",
   "execution_count": null,
   "id": "c7dbcb1c-5319-40f4-9b9c-3d6fe3bf2e63",
   "metadata": {},
   "outputs": [],
   "source": [
    "selected_algo = algorithm_selection()"
   ]
  },
  {
   "cell_type": "markdown",
   "id": "423ab52a-3957-4660-a178-e5824a58c636",
   "metadata": {},
   "source": [
    "#### New trial: Choose input features\n",
    "\n",
    "<center><a href=\"https://ncar.maps.arcgis.com/apps/instant/3dviewer/index.html?appid=50f8315bfb4742ce9468e25eaf53c12e\" target=\"blank\"><img src=\"https://elearning.unidata.ucar.edu/dataeLearning/Cybertraining/analysis/media/stationmap_pro.png\" width=\"500 px\"></a><br>\n",
    "<i>Click to open interactive map</i></center><br>"
   ]
  },
  {
   "cell_type": "code",
   "execution_count": null,
   "id": "74b12ae6-e2ab-4e2f-b0ae-736b84e2b967",
   "metadata": {},
   "outputs": [],
   "source": [
    "station_selector = create_station_selector()"
   ]
  },
  {
   "cell_type": "code",
   "execution_count": null,
   "id": "2c6ca79a-1d43-457c-9997-9eef3d0bc1ac",
   "metadata": {},
   "outputs": [],
   "source": [
    "# Execute this cell after selecting stations\n",
    "selected = get_selected_stations(station_selector)\n",
    "X_train_filtered     = filter_dataframe(X_train,     selected)\n",
    "X_val_filtered       = filter_dataframe(X_val,       selected)\n",
    "X_test_filtered      = filter_dataframe(X_test,      selected)\n",
    "X_true_test_filtered = filter_dataframe(X_true_test, selected)"
   ]
  },
  {
   "cell_type": "markdown",
   "id": "d98ed0d1-3526-45b3-8649-50aada35023d",
   "metadata": {},
   "source": [
    "#### New trial: Train algorithm"
   ]
  },
  {
   "cell_type": "code",
   "execution_count": null,
   "id": "4b7ab4b7-cdb3-4a8b-bbab-f1b5776b1639",
   "metadata": {},
   "outputs": [],
   "source": [
    "model_choice = selected_algo()\n",
    "trained_model = train_button(model_choice, X_train_filtered, y_train)"
   ]
  },
  {
   "cell_type": "markdown",
   "id": "7ded4e98-f356-4000-b209-e7b98a075d52",
   "metadata": {},
   "source": [
    "#### New trial: Validate model"
   ]
  },
  {
   "cell_type": "code",
   "execution_count": null,
   "id": "12fe5c25-b1f9-437e-bf6f-dc97ed8e1d8b",
   "metadata": {},
   "outputs": [],
   "source": [
    "model_eval_MITC(trained_model(), X_test_filtered, y_test)"
   ]
  },
  {
   "cell_type": "markdown",
   "id": "e6ec7a1c-93ad-46e3-80cb-a7aa924aba84",
   "metadata": {},
   "source": [
    "<br>\n",
    "<div class=\"alert alert-success\" role=\"alert\">\n",
    "<p class=\"admonition-title\" style=\"font-weight:bold\">Exercise 3f</p>\n",
    "    <ul>\n",
    "        <li><b>In your Machine Learning Model Handbook Exercise 3f,</b> paste the full output of each of your validation trials, one per box. </li>\n",
    "        <li>You may complete as many trials as you like until you are satisfied with the evaluation metrics, or they no longer improve with new trials. When complete, move on to the next part below. </li>\n",
    "    </ul>\n",
    "</div>\n",
    "<br>"
   ]
  },
  {
   "cell_type": "markdown",
   "id": "c37323e1-2a75-4f9b-9071-a3e79cd78dd5",
   "metadata": {},
   "source": [
    "### Part 3g: Test Model\n",
    "\n",
    "<div class=\"alert alert-warning\" role=\"alert\">\n",
    "<p class=\"admonition-title\" style=\"font-weight:bold\">Important</p>\n",
    "    For testing, your model needs to be in a state with your desired algorithm and input feature stations. If you haven't already, go back and run through the cells in Part 3f with your final choices one last time. This ensures that your final testing process will be executed with your desired choices. \n",
    "</div>\n",
    "<br>\n",
    "At this point, you have a trained model with validation metrics you are satisfied with. Next, it's time to test the model on brand new data: the testing dataset. The testing process mimics how the model would be used in a real-world process in a final, unbiased way. \n",
    "<br><br>\n",
    "Testing looks very similar to validation. The model makes predictions based on the input features in the testing dataset, we calculate RMSE and R² as the testing metrics. \n",
    "\n",
    "> **Instructions**\n",
    "> \n",
    "> Execute the cell below.\n",
    ">\n",
    "> After executing `model_eval_MITC()`, your model's testing metrics will appear below as a printout. "
   ]
  },
  {
   "cell_type": "code",
   "execution_count": null,
   "id": "82c4350a",
   "metadata": {},
   "outputs": [],
   "source": [
    "model_eval_MITC(trained_model(), X_val_filtered, y_val, eval_type='Testing')"
   ]
  },
  {
   "cell_type": "markdown",
   "id": "54e20b35-3933-457a-b454-925143761974",
   "metadata": {},
   "source": [
    "### Part 3h: Evaluate and Justify\n",
    "\n",
    "With your model trained, validated, and tested, you can now plot the predicted model output alongside the real data before the Mt. Mitchell station went offline. You may use this information to help you address your final model justification. \n",
    "\n",
    "> **Instructions**\n",
    "> \n",
    "> Execute the three cells below.\n",
    ">\n",
    "> The plot displays the historical and model-predicted data at Mt. Mitchell in the calendar year 2024. "
   ]
  },
  {
   "cell_type": "code",
   "execution_count": null,
   "id": "378da27a",
   "metadata": {},
   "outputs": [],
   "source": [
    "import matplotlib.pyplot as plt\n",
    "import matplotlib.dates as mdates\n",
    "\n",
    "y_pred = trained_model().predict(X_true_test_filtered)"
   ]
  },
  {
   "cell_type": "code",
   "execution_count": null,
   "id": "6be56b74",
   "metadata": {},
   "outputs": [],
   "source": [
    "from analysis_tech import plot_weather_comparison"
   ]
  },
  {
   "cell_type": "code",
   "execution_count": null,
   "id": "4a433778",
   "metadata": {},
   "outputs": [],
   "source": [
    "fig, axs = plot_weather_comparison(\n",
    "   df=df,\n",
    "   y_pred=y_pred, \n",
    "   transition_date=pd.Timestamp('2024-09-28')\n",
    ")\n",
    "plt.show()"
   ]
  },
  {
   "cell_type": "markdown",
   "id": "19d4f576-7b33-4eb8-a958-0470baf0565b",
   "metadata": {},
   "source": [
    "#### Your final decision\n",
    "\n",
    "Given all your evaluation, it's time to make a final decision on whether you believe this model provides sufficient skill for the needs of the situation. Go back and review your problem statement. Does this model deliver the results needed?\n",
    "\n",
    "<div class=\"alert alert-success\" role=\"alert\">\n",
    "<p class=\"admonition-title\" style=\"font-weight:bold\">Exercise 3h</p>\n",
    "    <p>Open your <b>Machine Learning Model Handbook</b> to Exercise 3h.</p>\n",
    "    <p>Paste your testing evaluation metrics in the designated box. </p>\n",
    "    <p>Then  make a final decision on whether this model delivers on the results needed with supporting justification. Include the following:\n",
    "    <ul>\n",
    "        <li>Which environmental variables had the best evaluation metrics? List some physical scientific reasons why this may be the case.</li>\n",
    "        <li>Is this model ready for use in the real world? Why or Why not?</li>\n",
    "        <li>What other possible changes could further improve this model?</li>\n",
    "    </ul>\n",
    "    </p>\n",
    "</div>\n",
    "\n",
    "***"
   ]
  },
  {
   "cell_type": "markdown",
   "id": "9537e8b9-9d60-4e1b-b40e-ee1126c0bdc9",
   "metadata": {},
   "source": [
    "#### Conclusion\n",
    "\n",
    "Scientific research rarely yields a simple and straightforward right answer. Instead, scientists analyze evidence, compare it to known physical processes, and make informed recommendations based on data and statistics. As you learned in *Machine Learning Foundations in the Earth System Sciences*, machine learning is not an exact science, rather, it generates approximations from large datasets. This makes evaluating model quality complex. What one scientist considers a high-performing model may be insufficient to another. What matters most is your ability to justify your results within the context of physical science and the real-world stakes. As you continue your studies, remember that these models are not just numbers. They are representations of the physical world."
   ]
  },
  {
   "cell_type": "markdown",
   "id": "f98948be-d20b-432d-8205-ea9b7c0b3586",
   "metadata": {},
   "source": [
    "***\n"
   ]
  },
  {
   "cell_type": "markdown",
   "id": "2149feb2-3ac0-4dd0-9877-53baff421aeb",
   "metadata": {},
   "source": [
    "#### Acknowledgements\n",
    "\n",
    "This work was supported by NSF Unidata under award #2319979 from the US National Science Foundation. Any opinions, findings, and conclusions or recommendations expressed in this material are those of the author(s) and do not necessarily reflect the views of the National Science Foundation. \n",
    "\n",
    "We thank the <a href=\"https://climate.ncsu.edu/\" target=\"blank\">North Carolina State Climate Office</a> for contributing <a href=\"https://doi.org/10.1175/JTECH-D-22-0079.1\" target=\"blank\">NC ECONet data</a> and media to this project. "
   ]
  }
 ],
 "metadata": {
  "kernelspec": {
   "display_name": "py312geo",
   "language": "python",
   "name": "python3"
  },
  "language_info": {
   "codemirror_mode": {
    "name": "ipython",
    "version": 3
   },
   "file_extension": ".py",
   "mimetype": "text/x-python",
   "name": "python",
   "nbconvert_exporter": "python",
   "pygments_lexer": "ipython3",
   "version": "3.12.9"
  }
 },
 "nbformat": 4,
 "nbformat_minor": 5
}
