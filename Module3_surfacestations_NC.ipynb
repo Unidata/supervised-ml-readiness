{
 "cells": [
  {
   "cell_type": "markdown",
   "id": "9805bfd2-b31d-4b2f-b325-a409c27f96c7",
   "metadata": {},
   "source": [
    "# Machine Learning Analysis in the Earth Systems Sciences\n",
    "\n",
    "\n",
    "In this module, you are tasked with planning, implementing, and evaluating a machine learning solution for a real-world scenario. Given pre-configured code blocks and prepared data, you will create a problem statement, explore the data, experiment with model development, and ultimately make a recommendation on the utility of machine learning for your scenario.\n",
    "To get started, first run the cell below to prepare this notebook. While that process runs, watch the following video to learn more about this scenario."
   ]
  },
  {
   "cell_type": "markdown",
   "id": "d4e3747f-a6cf-4326-9e5c-67117de117b9",
   "metadata": {},
   "source": [
    "# Missing weather station in western North Carolina\n",
    "\n",
    "Play the below video to learn about the situation.\n",
    "\n",
    "`<video>`\n",
    "\n",
    "`link to transcript`"
   ]
  },
  {
   "cell_type": "markdown",
   "id": "ea8ffff5-7731-4142-bd98-d9f5db95dd13",
   "metadata": {},
   "source": [
    "## Part 1: Problem Framing\n",
    "\n",
    "Based on the information provided in the video, which type of machine learning analysis is most appropriate for this scenario?"
   ]
  },
  {
   "cell_type": "raw",
   "id": "def7f2e9-36fc-4b96-81a7-e1206949f72b",
   "metadata": {
    "jp-MarkdownHeadingCollapsed": true
   },
   "source": [
    "WIDGET flipcards -->\n",
    "\n",
    "    Classification\n",
    "\n",
    "    Classification tasks work for scenarios that require classifying data into categories. This task needs a numerical value for output, and therefore requires a different approach.\n",
    "\n",
    "    Regression\n",
    "\n",
    "    Correct, this scenario requires a numerical output, so we will use a regression algorithm for this scenario."
   ]
  },
  {
   "cell_type": "markdown",
   "id": "a3c41fcf-e3c0-488e-9c71-de6c5d088b12",
   "metadata": {},
   "source": [
    "TK Narrative scaffolding to this:\n",
    "\n",
    "1. Does a simpler solution exist?\n",
    "2. Can machine learning requirements be met?\n",
    "3. Which scientific question should be answered?\n",
    "4. \n",
    "Since the process of creating a machine learning model has many steps and iterations, it's important to keep records of all findings and intermediate results. Your machine learning model handbook is in a separate document where you will record your findings."
   ]
  },
  {
   "cell_type": "markdown",
   "id": "4cd95337-12f5-4e9b-a786-979ebad08b20",
   "metadata": {},
   "source": [
    "<div class=\"alert alert-success\" role=\"alert\">\n",
    "<p class=\"admonition-title\" style=\"font-weight:bold\">Exercise 1</p>\n",
    "    <p>In your <b>Machine Learning Model Handbook</b>, type the scientific question to be answered for this situation.</p>\n",
    "    <p>GENERAL RUBRIC TBD</p>\n",
    "</div>"
   ]
  },
  {
   "cell_type": "markdown",
   "id": "40af46bf-61eb-4cdd-8701-aa774ffce5af",
   "metadata": {},
   "source": [
    "## Part 2: Data Handling\n",
    "### Part 2a: Locate Data of Interest\n",
    "\n",
    "You will be using other stations in the <a href=\"https://econet.climate.ncsu.edu/\" target=\"blank\">NC ECONet</a> for this project. Your colleague is a <a href=\"https://www.mongodb.com/resources/basics/data-engineering#what-is-data-engineering\" target=\"blank\">data engineer</a> who has done much of the data preparation for you. They have prepared the following document to describe the nature of the dataset they are providing you for your model building work. \n",
    "\n",
    "### Metadata Document for Western North Carolina Weather Station Data\n",
    "\n",
    "#### General Information\n",
    "\n",
    "Dataset Name: Western NC Weather Station Time-Series Data\n",
    "\n",
    "Description: This dataset contains tabular time-series data collected from multiple weather stations in Western North Carolina. The data includes atmospheric and environmental variables recorded at hourly intervals.\n",
    "\n",
    "Date Range: January 1, 2015, to December 16, 2024\n",
    "\n",
    "Geographic Coverage: Western North Carolina \n",
    "\n",
    "Data Frequency: Hourly\n",
    "\n",
    "Last Updated: Jan 1, 2025\n",
    "\n",
    "#### Data Structure\n",
    "\n",
    "File Format: .parquet\n",
    "\n",
    "Number of Records: 69,760 per station per feature\n",
    "\n",
    "Columns (Features) \n",
    "\n",
    "- observation_datetime: Date and time of observation in <UTC?>\n",
    "- date: \n",
    "- day_index: \n",
    "- hour_index: \n",
    "- year_index: \n",
    "\n",
    "Columns (features) per Station (XXXX):\n",
    "\n",
    "- XXXX_airtemp_degF (°F): Air temperature measured at 2 meters above ground level\n",
    "- XXXX_windspeed_mph (mph): Average wind speed during the hour at <2? 6? 10?> meters above ground level\n",
    "- XXXX_winddgust_mph (mph): <Peak wind gust during the hour at <2?> meters above ground level>\n",
    "- XXXX_rh_percent (%): Relative humidity\n",
    "- XXXX_precip_in (in): Total precipitation accumulated in the hour at <1? 2?> meters above ground level <need snow equivalent info>\n",
    "\n",
    "Stations:\n",
    "\n",
    "- BEAR (Bearwallow Mountain)\n",
    "- BURN (Burnsville Tower)\n",
    "- FRYI (Frying Pan Mountain)\n",
    "- JEFF (Mount Jefferson Tower)\n",
    "- **MITC (Mount Mitchell State Park) - target station**\n",
    "- NCAT (North Carolina A&T University Research Farm)\n",
    "- SALI (Piedmont Research Station)\n",
    "- SASS (Sassafrass Mountain)\n",
    "- UNCA (University of North Carolina - Asheville Weather Tower)\n",
    "- WINE (Wayah Bald Mountain)\n",
    "\n",
    "<a href=\"https://econet.climate.ncsu.edu/\" target=\"blank\">Station info</a>\n",
    "\n",
    "#### Data Quality\n",
    "\n",
    "Missing Data: Timestamps with no recorded data are marked as <>. <Other info about hanling missing data>\n",
    "\n",
    "Outlier Handling: <outside range handling>\n",
    "\n",
    "#### Data Provenance\n",
    "\n",
    "Source: North Carolina State Climate Office ECONet, <a href=\"https://econet.climate.ncsu.edu\" target=\"blank\">https://econet.climate.ncsu.edu/about/</a>\n",
    "\n",
    "#### Data Transformations\n",
    "\n",
    "Time Normalization: <?>\n",
    "\n",
    "Unit Conversion: <?>\n",
    "\n",
    "Aggregations: <?>"
   ]
  },
  {
   "cell_type": "markdown",
   "id": "5f1ecad5-162a-4d5b-aa75-2653903ac8e6",
   "metadata": {},
   "source": [
    "### Part 2b: Explore Data\n",
    "\n",
    "While your data engineer colleague prepared the data for your model and created the metadata document, you will still need to familiarize yourself with the data before you use it as input to a machine learning algorithm. In this step, you will take a closer look at the potential features for your model with a few tables and plots. \n",
    "\n",
    "First, let's read the data into this notebook."
   ]
  },
  {
   "cell_type": "code",
   "execution_count": 10,
   "id": "f6d6c37c-c245-4006-9e15-2c3674b17da2",
   "metadata": {},
   "outputs": [],
   "source": [
    "# Import the Python library that can interpret the data\n",
    "import pandas as pd\n",
    "\n",
    "# Location of the data on the remote server\n",
    "file_path = \"processed_data/NC_processed_data_1_2.parquet\"\n",
    "\n",
    "# Read data into this workspace\n",
    "df = pd.read_parquet(file_path) "
   ]
  },
  {
   "cell_type": "markdown",
   "id": "4557a370-47ac-4762-ab41-b3dabb6e678c",
   "metadata": {},
   "source": [
    "Our ***target features*** (the features that we are trying to predict with the machine learning model) are temperature, relative humidity, wind speed, wind gust, and precipitation at the Mt. Mitchell station. All other features are possible ***input features*** to the model. \n",
    "\n",
    "Let's now explore just the target features at Mt. Mitchell. \n",
    "\n",
    "<div class=\"alert alert-info\" role=\"alert\">\n",
    "<p class=\"admonition-title\" style=\"font-weight:bold\">Note</p>\n",
    "\t<p>To save a plot, hold Shift on your keyboard and right click on the plot. Then select <b>Copy image</b>. You may paste the image into your Machine Learning Model Handbook as needed.</p>\n",
    "</div>"
   ]
  },
  {
   "cell_type": "code",
   "execution_count": 5,
   "id": "806a7318-4421-437d-875b-83c93b61a622",
   "metadata": {
    "collapsed": true,
    "jupyter": {
     "outputs_hidden": true,
     "source_hidden": true
    },
    "scrolled": true
   },
   "outputs": [
    {
     "data": {
      "application/vnd.jupyter.widget-view+json": {
       "model_id": "3603e066dc5149c3b9a9917c5bc72d9a",
       "version_major": 2,
       "version_minor": 0
      },
      "text/plain": [
       "HTML(value='<h3>Mt. Mitchell</h3>')"
      ]
     },
     "metadata": {},
     "output_type": "display_data"
    },
    {
     "data": {
      "application/vnd.jupyter.widget-view+json": {
       "model_id": "aabacf5f09bc48fc9cb2fe7bd6952f84",
       "version_major": 2,
       "version_minor": 0
      },
      "text/plain": [
       "Dropdown(description='Variable:', options=(('Temperature (F)', 'airtemp_degF_MITC_station_MITC'), ('Average Wi…"
      ]
     },
     "metadata": {},
     "output_type": "display_data"
    },
    {
     "data": {
      "application/vnd.jupyter.widget-view+json": {
       "model_id": "10b4e8d863ab48239cb1d576dea8a689",
       "version_major": 2,
       "version_minor": 0
      },
      "text/plain": [
       "Dropdown(description='Plot type:', options=('Histogram', 'Time Series'), value='Histogram')"
      ]
     },
     "metadata": {},
     "output_type": "display_data"
    },
    {
     "data": {
      "application/vnd.jupyter.widget-view+json": {
       "model_id": "cb00c72a824942b695afb17a4d311a00",
       "version_major": 2,
       "version_minor": 0
      },
      "text/plain": [
       "Button(button_style='success', description='Plot', style=ButtonStyle())"
      ]
     },
     "metadata": {},
     "output_type": "display_data"
    },
    {
     "data": {
      "application/vnd.jupyter.widget-view+json": {
       "model_id": "50ad1c31ca30400abb638c9c1d9aee29",
       "version_major": 2,
       "version_minor": 0
      },
      "text/plain": [
       "Output()"
      ]
     },
     "metadata": {},
     "output_type": "display_data"
    }
   ],
   "source": [
    "import ipywidgets as widgets\n",
    "from IPython.display import display, clear_output\n",
    "import matplotlib.pyplot as plt\n",
    "\n",
    "# Variable dropdown\n",
    "var_dropdown = widgets.Dropdown(\n",
    "    options=[\n",
    "        ('Temperature (F)', 'MITC_airtemp_degF'),\n",
    "        ('Average Wind Speed (mph)', 'MITC_windspeed_mph'),\n",
    "        ('Wind Gust (mph)', 'MITC_winddgust_mph'),\n",
    "        ('Relative Humidity (%)', 'MITC_rh_percent'),\n",
    "        ('Precipitation (in)', 'MITC_precip_in')\n",
    "    ],\n",
    "    description='Variable:',\n",
    "    disabled=False\n",
    ")\n",
    "\n",
    "# Plot type dropdown\n",
    "plot_dropdown = widgets.Dropdown(\n",
    "    options=['Histogram', 'Time Series'],\n",
    "    description='Plot type:',\n",
    "    disabled=False\n",
    ")\n",
    "\n",
    "# Button for plotting\n",
    "plot_button = widgets.Button(description=\"Plot\", button_style=\"success\")\n",
    "\n",
    "# Output widget to render plots\n",
    "output = widgets.Output()\n",
    "\n",
    "# Display widgets and output\n",
    "display(widgets.HTML(value=\"<h3>Mt. Mitchell</h3>\"), var_dropdown, plot_dropdown, plot_button, output)\n",
    "\n",
    "# Button click event handler\n",
    "def on_plot_button_click(b):\n",
    "    # Retrieve current selections\n",
    "    var_value = var_dropdown.value\n",
    "    var_label = var_dropdown.label\n",
    "\n",
    "    # Clear previous output\n",
    "    with output:\n",
    "        clear_output(wait=True)  # Clear the previous plot\n",
    "\n",
    "        # Generate the selected plot\n",
    "        if plot_dropdown.value == 'Histogram':\n",
    "            fig, ax = plt.subplots(1, 1, tight_layout=True)\n",
    "            ax.hist(df[var_dropdown.value], bins=30, color='skyblue', edgecolor='black')\n",
    "            ax.set_title(f\"Histogram of {var_dropdown.label} at Mt. Mitchell (MITC)\", fontsize=14)\n",
    "            ax.set_xlabel(var_dropdown.label)\n",
    "            ax.set_ylabel(\"Number of records\")\n",
    "            plt.show()\n",
    "        elif plot_dropdown.value == 'Time Series':\n",
    "            fig, ax = plt.subplots(1, 1, tight_layout=True)\n",
    "            ax.plot(df['observation_datetime'][::100], df[var_dropdown.value][::100], label=var_dropdown.label, color='orange')\n",
    "            ax.set_title(f\"Time Series of {var_dropdown.label} at Mt. Mitchell (MITC)\", fontsize=14)\n",
    "            ax.set_xlabel(\"Date\")\n",
    "            ax.set_ylabel(var_dropdown.label)\n",
    "            plt.show()\n",
    "\n",
    "# Attach the event handler to the button\n",
    "plot_button.on_click(on_plot_button_click)"
   ]
  },
  {
   "cell_type": "markdown",
   "id": "be18366d-a754-4b36-82a7-8e18c55af32f",
   "metadata": {},
   "source": [
    "<div class=\"alert alert-info\" role=\"alert\">\n",
    "<p class=\"admonition-title\" style=\"font-weight:bold\">Note</p>\n",
    "\t<p>The machine learning algorithm will treat each station + environmental variable pair as a unique feature, i.e. <code>BURN_airtemp_degF</code> is a different feature than <code>SASS_airtemp_degF</code>.</p>\n",
    "</div>"
   ]
  },
  {
   "cell_type": "code",
   "execution_count": 7,
   "id": "bbe360a5-cc33-437d-bb91-9d683da09538",
   "metadata": {
    "collapsed": true,
    "jupyter": {
     "outputs_hidden": true,
     "source_hidden": true
    },
    "scrolled": true
   },
   "outputs": [
    {
     "data": {
      "application/vnd.jupyter.widget-view+json": {
       "model_id": "34a44eefb6824dceabea1b5c32887dab",
       "version_major": 2,
       "version_minor": 0
      },
      "text/plain": [
       "HTML(value='<h3>Input Stations</h3>')"
      ]
     },
     "metadata": {},
     "output_type": "display_data"
    },
    {
     "data": {
      "application/vnd.jupyter.widget-view+json": {
       "model_id": "40f134580391476492c0c9146fa1b23d",
       "version_major": 2,
       "version_minor": 0
      },
      "text/plain": [
       "Dropdown(description='Variable:', options=(('Temperature (F)', 'airtemp_degF'), ('Average Wind Speed (mph)', '…"
      ]
     },
     "metadata": {},
     "output_type": "display_data"
    },
    {
     "data": {
      "application/vnd.jupyter.widget-view+json": {
       "model_id": "3229771c1f504f79bb8a1b650188e0b0",
       "version_major": 2,
       "version_minor": 0
      },
      "text/plain": [
       "Dropdown(description='Plot type:', options=('Histogram', 'Time Series'), value='Histogram')"
      ]
     },
     "metadata": {},
     "output_type": "display_data"
    },
    {
     "data": {
      "application/vnd.jupyter.widget-view+json": {
       "model_id": "7ebc9a5b7a7e471fab7b7acfc8ada2ca",
       "version_major": 2,
       "version_minor": 0
      },
      "text/plain": [
       "Dropdown(description='Station:', options=('BEAR', 'BURN', 'FRYI', 'JEFF', 'NCAT', 'SALI', 'SASS', 'UNCA', 'WIN…"
      ]
     },
     "metadata": {},
     "output_type": "display_data"
    },
    {
     "data": {
      "application/vnd.jupyter.widget-view+json": {
       "model_id": "9452aa0fc72f4c14ae059dbe381704e0",
       "version_major": 2,
       "version_minor": 0
      },
      "text/plain": [
       "Button(button_style='success', description='Plot', style=ButtonStyle())"
      ]
     },
     "metadata": {},
     "output_type": "display_data"
    },
    {
     "data": {
      "application/vnd.jupyter.widget-view+json": {
       "model_id": "315328d407164ea7a164827336ca98a0",
       "version_major": 2,
       "version_minor": 0
      },
      "text/plain": [
       "Output()"
      ]
     },
     "metadata": {},
     "output_type": "display_data"
    }
   ],
   "source": [
    "import ipywidgets as widgets\n",
    "from IPython.display import display, clear_output\n",
    "import matplotlib.pyplot as plt\n",
    "\n",
    "# Variable dropdown\n",
    "var_dropdown = widgets.Dropdown(\n",
    "    options=[\n",
    "        ('Temperature (F)', 'airtemp_degF'),\n",
    "        ('Average Wind Speed (mph)', 'windspeed_mph'),\n",
    "        ('Wind Gust (mph)', 'winddgust_mph'),\n",
    "        ('Relative Humidity (%)', 'rh_percent'),\n",
    "        ('Precipitation (in)', 'precip_in')\n",
    "    ],\n",
    "    description='Variable:',\n",
    "    disabled=False\n",
    ")\n",
    "\n",
    "# Plot type dropdown\n",
    "plot_dropdown = widgets.Dropdown(\n",
    "    options=['Histogram', 'Time Series'],\n",
    "    description='Plot type:',\n",
    "    disabled=False\n",
    ")\n",
    "\n",
    "# Station dropdown\n",
    "station_dropdown = widgets.Dropdown(\n",
    "    options=['BEAR', 'BURN', 'FRYI', 'JEFF', 'NCAT', 'SALI', 'SASS', 'UNCA', 'WINE'],\n",
    "    description='Station:',\n",
    "    disabled=False\n",
    ")\n",
    "\n",
    "# Button for plotting\n",
    "plot_button = widgets.Button(description=\"Plot\", button_style=\"success\")\n",
    "\n",
    "# Output widget to render plots\n",
    "output = widgets.Output()\n",
    "\n",
    "# Display widgets and output\n",
    "display(widgets.HTML(value=\"<h3>Input Stations</h3>\"), var_dropdown, plot_dropdown, station_dropdown, plot_button, output)\n",
    "\n",
    "# Button click event handler\n",
    "def on_plot_button_click(b):\n",
    "    # Retrieve current selection\n",
    "    selected_var = f\"{station_dropdown.value}_{var_dropdown.value}\"\n",
    "\n",
    "    # Clear previous output\n",
    "    with output:\n",
    "        clear_output(wait=True)  # Clear the previous plot\n",
    "\n",
    "        # Generate the selected plot\n",
    "        if plot_dropdown.value == 'Histogram':\n",
    "            fig, ax = plt.subplots(1, 1, tight_layout=True)\n",
    "            ax.hist(df[selected_var], bins=30, color='skyblue', edgecolor='black')\n",
    "            ax.set_title(f\"Histogram of {var_dropdown.label} at {station_dropdown.value}\", fontsize=14)\n",
    "            ax.set_xlabel(var_dropdown.label)\n",
    "            ax.set_ylabel(\"Number of records\")\n",
    "            plt.show()\n",
    "        elif plot_dropdown.value == 'Time Series':\n",
    "            fig, ax = plt.subplots(1, 1, tight_layout=True)\n",
    "            ax.plot(df['observation_datetime'][::100], df[selected_var][::100], label=var_dropdown.label, color='orange')\n",
    "            ax.set_title(f\"Time Series of {var_dropdown.label} at {station_dropdown.value}\", fontsize=14)\n",
    "            ax.set_xlabel(\"Date\")\n",
    "            ax.set_ylabel(var_dropdown.label)\n",
    "            plt.show()\n",
    "\n",
    "# Attach the event handler to the button\n",
    "plot_button.on_click(on_plot_button_click)\n"
   ]
  },
  {
   "cell_type": "markdown",
   "id": "a49eb31c-c0cf-477d-a771-282d49442189",
   "metadata": {},
   "source": [
    "<div class=\"alert alert-success\" role=\"alert\">\n",
    "<p class=\"admonition-title\" style=\"font-weight:bold\">Exercise 2b</p>\n",
    "    <p>In your <b>Machine Learning Model Handbook</b>, describe your exploratory data analysis of any target and input features of note. Include the following:\n",
    "    <ul>\n",
    "        <li>Do variables follow diurnal or annual patterns generally as expected?</li>\n",
    "        <li>Do any variables appear to inlude major outliers?</li>\n",
    "        <li>Are there any features in any stations that look incorrect?</li>\n",
    "        <li>Which stations appear to be most correlated to the variables at Mt Mitchell?</li>\n",
    "        <li>Include any important plots <i>To copy a plot image, hold shift, right click on the image, then select Copy.</i></li>\n",
    "    </ul>\n",
    "    </p>\n",
    "    <p>GENERAL RUBRIC TBD</p>\n",
    "</div>"
   ]
  },
  {
   "cell_type": "markdown",
   "id": "2179f158-8f6b-45f3-ab00-aa889b092160",
   "metadata": {},
   "source": [
    "### Part 2c: Create a data splitting strategy\n",
    "\n",
    "Next we create a data splitting strategy. Data splitting refers to the process of dividing data into three groups: training, validation, and testing. Each of these groups represent a part of the iterative process for machine learning model development. \n",
    "\n",
    "- Training data is the largest subset, usually around 60-80% of the total data, and is used to initially train the model. \n",
    "- Validation data is roughly 10-20% of the total data, and is used to validate the effectiveness of the training process. \n",
    "- Testing data is also roughly 10-20% of the total data, and is used to test the final refined model before using it on new, unseen data.\n",
    "\n",
    "Each group should be separate to ensure no single group will bias the model. In this model, the data will be randomly split into these groups, but you decide the proportions of data for each group. Input your percentages in the blanks below, ensuring all percentages equal 100%"
   ]
  },
  {
   "cell_type": "code",
   "execution_count": 9,
   "id": "85670acd-6a39-4473-97c9-c1e8f3675e4e",
   "metadata": {
    "jupyter": {
     "source_hidden": true
    }
   },
   "outputs": [
    {
     "data": {
      "application/vnd.jupyter.widget-view+json": {
       "model_id": "1221859d6a3540688e2289e0336b937b",
       "version_major": 2,
       "version_minor": 0
      },
      "text/plain": [
       "VBox(children=(HTML(value='<h3>Dataset Split Percentages</h3>'), BoundedIntText(value=0, description='Training…"
      ]
     },
     "metadata": {},
     "output_type": "display_data"
    }
   ],
   "source": [
    "def create_percentage_widget():\n",
    "    # Create text widgets for percentages\n",
    "    training = widgets.BoundedIntText(\n",
    "        value=0,\n",
    "        min=0,\n",
    "        max=100,\n",
    "        description='Training %:',\n",
    "        layout=widgets.Layout(width='200px')\n",
    "    )\n",
    "    \n",
    "    testing = widgets.BoundedIntText(\n",
    "        value=0,\n",
    "        min=0,\n",
    "        max=100,\n",
    "        description='Testing %:',\n",
    "        layout=widgets.Layout(width='200px')\n",
    "    )\n",
    "    \n",
    "    validation = widgets.BoundedIntText(\n",
    "        value=0,\n",
    "        min=0,\n",
    "        max=100,\n",
    "        description='Validation %:',\n",
    "        layout=widgets.Layout(width='200px')\n",
    "    )\n",
    "    \n",
    "    output = widgets.Output()\n",
    "    \n",
    "    def check_percentages(change):\n",
    "        with output:\n",
    "            output.clear_output()\n",
    "            total = training.value + testing.value + validation.value\n",
    "      \n",
    "            print(f\"\\nTotal: {total}%\")\n",
    "            \n",
    "            if total == 100:\n",
    "                print(\"✓ Perfect! Percentages sum to 100%\")\n",
    "            else:\n",
    "                print(f\"✗ Warning: Percentages sum to {total}%, not 100%\")\n",
    "    \n",
    "    # Add observers\n",
    "    training.observe(check_percentages, names='value')\n",
    "    testing.observe(check_percentages, names='value')\n",
    "    validation.observe(check_percentages, names='value')\n",
    "    \n",
    "    # Layout\n",
    "    widget_box = widgets.VBox([\n",
    "        widgets.HTML(value=\"<h3>Dataset Split Percentages</h3>\"),\n",
    "        training,\n",
    "        testing,\n",
    "        validation,\n",
    "        output\n",
    "    ])\n",
    "    \n",
    "    display(widget_box)\n",
    "    \n",
    "    # Return both the widget box and a function to get decimal values\n",
    "    def get_decimal_values():\n",
    "        return {\n",
    "            'training': training.value / 100,\n",
    "            'testing': testing.value / 100,\n",
    "            'validation': validation.value / 100\n",
    "        }\n",
    "    \n",
    "    return widget_box, get_decimal_values\n",
    "\n",
    "widget, get_values = create_percentage_widget()"
   ]
  },
  {
   "cell_type": "markdown",
   "id": "b94e17c2-14c8-400e-9882-1016a33d888c",
   "metadata": {},
   "source": [
    "Part "
   ]
  },
  {
   "cell_type": "code",
   "execution_count": 34,
   "id": "8e46cd0f-e153-49fe-a5b0-2597adb62cb3",
   "metadata": {
    "jupyter": {
     "source_hidden": true
    }
   },
   "outputs": [
    {
     "data": {
      "application/vnd.jupyter.widget-view+json": {
       "model_id": "51c1db1fd99244a094edae89bfd25d16",
       "version_major": 2,
       "version_minor": 0
      },
      "text/plain": [
       "VBox(children=(HTML(value='<h3>Select Input Stations</h3>'), GridBox(children=(Checkbox(value=False, descripti…"
      ]
     },
     "metadata": {},
     "output_type": "display_data"
    }
   ],
   "source": [
    "def create_station_selector():\n",
    "    # List of all stations\n",
    "    stations = ['BEAR', 'JEFF', 'SASS', \n",
    "                'BURN', 'NCAT', 'UNCA',\n",
    "                'FRYI', 'SALI', 'WINE']\n",
    "    \n",
    "    # Create checkbox widgets for each station\n",
    "    checkboxes = {\n",
    "        station: widgets.Checkbox(\n",
    "            value=False,\n",
    "            description=station,\n",
    "            disabled=False,\n",
    "            indent=False\n",
    "        ) for station in stations\n",
    "    }\n",
    "    \n",
    "    # Create a container for all checkboxes\n",
    "    checkbox_grid = widgets.GridBox(\n",
    "        children=[checkboxes[station] for station in stations],\n",
    "        layout=widgets.Layout(\n",
    "            grid_template_columns='100px 100px 100px',\n",
    "        )\n",
    "    )\n",
    "    \n",
    "    # Function to get selected stations\n",
    "    def get_selected_stations():\n",
    "        return [station for station, checkbox in checkboxes.items() if checkbox.value]\n",
    "    \n",
    "    # Create an output widget to display selected stations\n",
    "    output = widgets.Output()\n",
    "    \n",
    "    # Update function for when checkboxes change\n",
    "    def on_change(change):\n",
    "        with output:\n",
    "            output.clear_output()\n",
    "            selected = get_selected_stations()\n",
    "            print(f\"Selected stations: {', '.join(selected) if selected else 'None'}\")\n",
    "    \n",
    "    # Add observers to all checkboxes\n",
    "    for checkbox in checkboxes.values():\n",
    "        checkbox.observe(on_change, names='value')\n",
    "    \n",
    "    # Display everything\n",
    "    display(widgets.VBox([\n",
    "        widgets.HTML(value=\"<h3>Select Input Stations</h3>\"),\n",
    "        checkbox_grid,\n",
    "        output\n",
    "    ]))\n",
    "    \n",
    "    return checkboxes\n",
    "\n",
    "station_selector = create_station_selector()"
   ]
  },
  {
   "cell_type": "code",
   "execution_count": null,
   "id": "29b5ff1e-55ea-4886-af99-69f9e2be141f",
   "metadata": {},
   "outputs": [],
   "source": []
  }
 ],
 "metadata": {
  "kernelspec": {
   "display_name": "Python 3 (ipykernel)",
   "language": "python",
   "name": "python3"
  },
  "language_info": {
   "codemirror_mode": {
    "name": "ipython",
    "version": 3
   },
   "file_extension": ".py",
   "mimetype": "text/x-python",
   "name": "python",
   "nbconvert_exporter": "python",
   "pygments_lexer": "ipython3",
   "version": "3.11.11"
  }
 },
 "nbformat": 4,
 "nbformat_minor": 5
}
