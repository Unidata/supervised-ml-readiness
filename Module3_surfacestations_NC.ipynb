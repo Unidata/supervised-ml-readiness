{
 "cells": [
  {
   "cell_type": "markdown",
   "id": "9805bfd2-b31d-4b2f-b325-a409c27f96c7",
   "metadata": {},
   "source": [
    "# Machine Learning Analysis in the Earth Systems Sciences\n",
    "\n",
    "\n",
    "In this module, you are tasked with planning, implementing, and evaluating a machine learning solution for a real-world scenario. Given pre-configured code blocks and prepared data, you will create a problem statement, explore the data, experiment with model development, and ultimately make a recommendation on the utility of machine learning for your scenario.\n",
    "To get started, first run the cell below to prepare this notebook. While that process runs, watch the following video to learn more about this scenario."
   ]
  },
  {
   "cell_type": "markdown",
   "id": "d4e3747f-a6cf-4326-9e5c-67117de117b9",
   "metadata": {},
   "source": [
    "# Missing weather station in western North Carolina\n",
    "\n",
    "Play the below video to learn about the situation.\n",
    "\n",
    "`<video>`\n",
    "\n",
    "`link to transcript`"
   ]
  },
  {
   "cell_type": "markdown",
   "id": "ea8ffff5-7731-4142-bd98-d9f5db95dd13",
   "metadata": {},
   "source": [
    "## Part 1: Problem Framing\n",
    "\n",
    "Based on the information provided in the video, which type of machine learning analysis is most appropriate for this scenario?"
   ]
  },
  {
   "cell_type": "raw",
   "id": "def7f2e9-36fc-4b96-81a7-e1206949f72b",
   "metadata": {
    "jp-MarkdownHeadingCollapsed": true
   },
   "source": [
    "WIDGET flipcards -->\n",
    "\n",
    "    Classification\n",
    "\n",
    "    Classification tasks work for scenarios that require classifying data into categories. This task needs a numerical value for output, and therefore requires a different approach.\n",
    "\n",
    "    Regression\n",
    "\n",
    "    Correct, this scenario requires a numerical output, so we will use a regression algorithm for this scenario."
   ]
  },
  {
   "cell_type": "markdown",
   "id": "a3c41fcf-e3c0-488e-9c71-de6c5d088b12",
   "metadata": {},
   "source": [
    "TK Narrative scaffolding to this:\n",
    "\n",
    "1. Does a simpler solution exist?\n",
    "2. Can machine learning requirements be met?\n",
    "3. Which scientific question should be answered?"
   ]
  },
  {
   "cell_type": "markdown",
   "id": "4cd95337-12f5-4e9b-a786-979ebad08b20",
   "metadata": {},
   "source": [
    "<div class=\"alert alert-success\" role=\"alert\">\n",
    "<p class=\"admonition-title\" style=\"font-weight:bold\">Exercise</p>\n",
    "    <p>In your <b>Machine Learning Model Handbook</b>, type the scientific question to be answered for this situation.</p>\n",
    "    <p>GENERAL RUBRIC TBD</p>\n",
    "</div>"
   ]
  },
  {
   "cell_type": "markdown",
   "id": "40af46bf-61eb-4cdd-8701-aa774ffce5af",
   "metadata": {},
   "source": [
    "## Part 2: Data Handling\n",
    "\n",
    "You will be using other stations in the <a href=\"https://econet.climate.ncsu.edu/\" target=\"blank\">NC ECONet</a> for this project. Your colleague is a <a href=\"https://www.mongodb.com/resources/basics/data-engineering#what-is-data-engineering\" target=\"blank\">data engineer</a> who has done much of the data preparation for you. They have prepared the following document to describe the nature of the dataset they are providing you for your model building work. \n",
    "\n",
    "### Metadata Document for Western North Carolina Weather Station Data\n",
    "\n",
    "#### General Information\n",
    "\n",
    "Dataset Name: Western NC Weather Station Time-Series Data\n",
    "\n",
    "Description: This dataset contains tabular time-series data collected from multiple weather stations in Western North Carolina. The data includes atmospheric and environmental variables recorded at hourly intervals.\n",
    "\n",
    "Date Range: January 1, 2015, to December 16, 2024\n",
    "\n",
    "Geographic Coverage: Western North Carolina \n",
    "\n",
    "Data Frequency: Hourly\n",
    "\n",
    "Last Updated: Jan 1, 2025\n",
    "\n",
    "#### Data Structure\n",
    "\n",
    "File Format: .parquet\n",
    "\n",
    "Number of Records: 69,760 per station per feature\n",
    "\n",
    "Columns (Features) per Station (XXXX):\n",
    "\n",
    "- observation_datetime_station_XXXX: Date and time of observation in <UTC?>\n",
    "- airtemp_degF_XXXX_station_XXXX (°F): Air temperature measured at 2 meters above ground level\n",
    "- windspeed_avg_mph_XXXX_station_XXXX (mph): Average wind speed during the hour at <2? 6? 10?> meters above ground level\n",
    "- winddgust_mph_XXXX_station_XXXX (mph): <Peak wind gust during the hour at <2?> meters above ground level>\n",
    "- rhavg_percent_XXXX_station_XXXX (%): Relative humidity\n",
    "- precip_in_XXXX_station_XXXX (in): Total precipitation accumulated in the hour at <1? 2?> meters above ground level <need snow equivalent info>\n",
    "- date_station_XXXX: <>\n",
    "- day_index: <>\n",
    "- hour_index: <>\n",
    "\n",
    "Stations:\n",
    "\n",
    "- BEAR (Bearwallow Mountain)\n",
    "- BURN (Burnsville Tower)\n",
    "- FRYI (Frying Pan Mountain)\n",
    "- JEFF (Mount Jefferso Tower)\n",
    "- MITC (Mount Mitchell State Park)\n",
    "- NCAT (North Carolina A&T University Research Farm)\n",
    "- SALI (Piedmont Research Station)\n",
    "- SASS (Sassafrass Mountain)\n",
    "- UNCA (University of North Carolina - Asheville Weather Tower)\n",
    "- WINE (Wayah Bald Mountain)\n",
    "\n",
    "#### Data Quality\n",
    "\n",
    "Missing Data: Timestamps with no recorded data are marked as <>. <Other info about hanling missing data>\n",
    "\n",
    "Outlier Handling: <outside range handling>\n",
    "\n",
    "#### Data Provenance\n",
    "\n",
    "Source: North Carolina State Climate Office ECONet, <a href=\"https://econet.climate.ncsu.edu\" target=\"blank\">https://econet.climate.ncsu.edu/about/</a>\n",
    "\n",
    "#### Data Transformations\n",
    "\n",
    "Time Normalization: <?>\n",
    "\n",
    "Unit Conversion: <?>\n",
    "\n",
    "Aggregations: <?>"
   ]
  },
  {
   "cell_type": "code",
   "execution_count": 19,
   "id": "f6d6c37c-c245-4006-9e15-2c3674b17da2",
   "metadata": {},
   "outputs": [],
   "source": [
    "import pandas as pd\n",
    "\n",
    "file_path = \"processed_data/NC_processed_data_12_31.parquet\"\n",
    "df = pd.read_parquet(file_path) "
   ]
  },
  {
   "cell_type": "code",
   "execution_count": 20,
   "id": "7c10370b-6123-4a0a-9a91-29cddaa6f63c",
   "metadata": {},
   "outputs": [
    {
     "data": {
      "text/plain": [
       "Index(['observation_datetime_station_BURN', 'airtemp_degF_BURN_station_BURN',\n",
       "       'windspeed_avg_mph_BURN_station_BURN',\n",
       "       'winddgust_mph_BURN_station_BURN', 'rhavg_percent_BURN_station_BURN',\n",
       "       'precip_in_BURN_station_BURN', 'date_station_BURN', 'day_index',\n",
       "       'hour_index', 'observation_datetime_station_NCAT',\n",
       "       'airtemp_degF_NCAT_station_NCAT', 'windspeed_avg_mph_NCAT_station_NCAT',\n",
       "       'winddgust_mph_NCAT_station_NCAT', 'rhavg_percent_NCAT_station_NCAT',\n",
       "       'precip_in_NCAT_station_NCAT', 'date_station_NCAT',\n",
       "       'observation_datetime_station_SALI', 'airtemp_degF_SALI_station_SALI',\n",
       "       'windspeed_avg_mph_SALI_station_SALI',\n",
       "       'winddgust_mph_SALI_station_SALI', 'rhavg_percent_SALI_station_SALI',\n",
       "       'precip_in_SALI_station_SALI', 'date_station_SALI',\n",
       "       'observation_datetime_station_MITC', 'airtemp_degF_MITC_station_MITC',\n",
       "       'windspeed_avg_mph_MITC_station_MITC',\n",
       "       'winddgust_mph_MITC_station_MITC', 'rhavg_percent_MITC_station_MITC',\n",
       "       'precip_in_MITC_station_MITC', 'date_station_MITC',\n",
       "       'observation_datetime_station_SASS', 'airtemp_degF_SASS_station_SASS',\n",
       "       'windspeed_avg_mph_SASS_station_SASS',\n",
       "       'winddgust_mph_SASS_station_SASS', 'rhavg_percent_SASS_station_SASS',\n",
       "       'precip_in_SASS_station_SASS', 'date_station_SASS',\n",
       "       'observation_datetime_station_FRYI', 'airtemp_degF_FRYI_station_FRYI',\n",
       "       'windspeed_avg_mph_FRYI_station_FRYI',\n",
       "       'winddgust_mph_FRYI_station_FRYI', 'rhavg_percent_FRYI_station_FRYI',\n",
       "       'precip_in_FRYI_station_FRYI', 'date_station_FRYI',\n",
       "       'observation_datetime_station_JEFF', 'airtemp_degF_JEFF_station_JEFF',\n",
       "       'windspeed_avg_mph_JEFF_station_JEFF',\n",
       "       'winddgust_mph_JEFF_station_JEFF', 'rhavg_percent_JEFF_station_JEFF',\n",
       "       'precip_in_JEFF_station_JEFF', 'date_station_JEFF',\n",
       "       'observation_datetime_station_BEAR', 'airtemp_degF_BEAR_station_BEAR',\n",
       "       'windspeed_avg_mph_BEAR_station_BEAR',\n",
       "       'winddgust_mph_BEAR_station_BEAR', 'rhavg_percent_BEAR_station_BEAR',\n",
       "       'precip_in_BEAR_station_BEAR', 'date_station_BEAR',\n",
       "       'observation_datetime_station_MORG', 'airtemp_degF_MORG_station_MORG',\n",
       "       'windspeed_avg_mph_MORG_station_MORG',\n",
       "       'winddgust_mph_MORG_station_MORG', 'rhavg_percent_MORG_station_MORG',\n",
       "       'precip_in_MORG_station_MORG', 'date_station_MORG',\n",
       "       'observation_datetime_station_WINE', 'airtemp_degF_WINE_station_WINE',\n",
       "       'windspeed_avg_mph_WINE_station_WINE',\n",
       "       'winddgust_mph_WINE_station_WINE', 'rhavg_percent_WINE_station_WINE',\n",
       "       'precip_in_WINE_station_WINE', 'date_station_WINE',\n",
       "       'observation_datetime_station_UNCA', 'airtemp_degF_UNCA_station_UNCA',\n",
       "       'windspeed_avg_mph_UNCA_station_UNCA',\n",
       "       'winddgust_mph_UNCA_station_UNCA', 'rhavg_percent_UNCA_station_UNCA',\n",
       "       'precip_in_UNCA_station_UNCA', 'date_station_UNCA'],\n",
       "      dtype='object')"
      ]
     },
     "execution_count": 20,
     "metadata": {},
     "output_type": "execute_result"
    }
   ],
   "source": [
    "df.columns"
   ]
  },
  {
   "cell_type": "code",
   "execution_count": 21,
   "id": "5fb27bda-30cc-4a91-b269-26e8ddc7e771",
   "metadata": {},
   "outputs": [
    {
     "data": {
      "text/plain": [
       "0         86.3\n",
       "1         86.3\n",
       "2         86.3\n",
       "3         86.3\n",
       "4         86.3\n",
       "         ...  \n",
       "69755     99.5\n",
       "69756    100.0\n",
       "69757    100.0\n",
       "69758    100.0\n",
       "69759    100.0\n",
       "Name: rhavg_percent_MORG_station_MORG, Length: 69760, dtype: float64"
      ]
     },
     "execution_count": 21,
     "metadata": {},
     "output_type": "execute_result"
    }
   ],
   "source": [
    "df.rhavg_percent_MORG_station_MORG"
   ]
  },
  {
   "cell_type": "code",
   "execution_count": 13,
   "id": "8bfa14f5-c11f-4bc9-a40d-98505344b20c",
   "metadata": {},
   "outputs": [
    {
     "data": {
      "text/plain": [
       "0        2017-01-01 00:00:00\n",
       "1        2017-01-01 01:00:00\n",
       "2        2017-01-01 02:00:00\n",
       "3        2017-01-01 03:00:00\n",
       "4        2017-01-01 04:00:00\n",
       "                ...         \n",
       "69755    2024-12-16 19:00:00\n",
       "69756    2024-12-16 20:00:00\n",
       "69757    2024-12-16 21:00:00\n",
       "69758    2024-12-16 22:00:00\n",
       "69759    2024-12-16 23:00:00\n",
       "Name: observation_datetime_station_NCAT, Length: 69760, dtype: object"
      ]
     },
     "execution_count": 13,
     "metadata": {},
     "output_type": "execute_result"
    }
   ],
   "source": [
    "df.observation_datetime_station_NCAT"
   ]
  },
  {
   "cell_type": "code",
   "execution_count": null,
   "id": "f36db474-f5a5-462b-a851-ea49be94e773",
   "metadata": {},
   "outputs": [],
   "source": []
  }
 ],
 "metadata": {
  "kernelspec": {
   "display_name": "Python 3 (ipykernel)",
   "language": "python",
   "name": "python3"
  },
  "language_info": {
   "codemirror_mode": {
    "name": "ipython",
    "version": 3
   },
   "file_extension": ".py",
   "mimetype": "text/x-python",
   "name": "python",
   "nbconvert_exporter": "python",
   "pygments_lexer": "ipython3",
   "version": "3.11.11"
  }
 },
 "nbformat": 4,
 "nbformat_minor": 5
}
